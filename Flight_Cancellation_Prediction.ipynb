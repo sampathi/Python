{
  "nbformat": 4,
  "nbformat_minor": 0,
  "metadata": {
    "colab": {
      "name": "Flight Cancellation Prediction.ipynb",
      "provenance": [],
      "collapsed_sections": [],
      "machine_shape": "hm",
      "include_colab_link": true
    },
    "kernelspec": {
      "name": "python3",
      "display_name": "Python 3"
    },
    "language_info": {
      "name": "python"
    }
  },
  "cells": [
    {
      "cell_type": "markdown",
      "metadata": {
        "id": "view-in-github",
        "colab_type": "text"
      },
      "source": [
        "<a href=\"https://colab.research.google.com/github/sampathi/Python/blob/main/Flight_Cancellation_Prediction.ipynb\" target=\"_parent\"><img src=\"https://colab.research.google.com/assets/colab-badge.svg\" alt=\"Open In Colab\"/></a>"
      ]
    },
    {
      "cell_type": "code",
      "metadata": {
        "colab": {
          "base_uri": "https://localhost:8080/"
        },
        "id": "ypRHhImqMPXW",
        "outputId": "b1e04d5d-8154-4a8a-9e6c-4f035b69c97b"
      },
      "source": [
        "from google.colab import drive\n",
        "drive.mount('/content/gdrive/')"
      ],
      "execution_count": null,
      "outputs": [
        {
          "output_type": "stream",
          "text": [
            "Mounted at /content/gdrive/\n"
          ],
          "name": "stdout"
        }
      ]
    },
    {
      "cell_type": "code",
      "metadata": {
        "colab": {
          "base_uri": "https://localhost:8080/"
        },
        "id": "wPhod2Kuu4L-",
        "outputId": "1e5aeaa6-7c8a-4ad4-90c8-e2f4369dcb40"
      },
      "source": [
        "def find_top_heights(x):\n",
        "  x = sorted(x, reverse=True)\n",
        "  return x[0], x[1], x[2]\n",
        "\n",
        "\n",
        "y = [25, 35, 15, 16, 30, 45, 37, 39]\n",
        "print(\"Top 3 building Heights are: {}\".format(find_top_heights(y)))\n"
      ],
      "execution_count": null,
      "outputs": [
        {
          "output_type": "stream",
          "text": [
            "Top 3 building Heights are: (45, 39, 37)\n"
          ],
          "name": "stdout"
        }
      ]
    },
    {
      "cell_type": "code",
      "metadata": {
        "colab": {
          "base_uri": "https://localhost:8080/"
        },
        "id": "xF37RL6Ru4PO",
        "outputId": "a67ec94a-bffa-4a8b-9f8d-e5a41fcf7bd3"
      },
      "source": [
        "def final_amount(n, amount):\n",
        "  for i in range(n):\n",
        "    amount = round(amount + 0.05*amount, -3)\n",
        "\n",
        "  return amount\n",
        "\n",
        "amount = 100000\n",
        "final_amount(7, amount)"
      ],
      "execution_count": null,
      "outputs": [
        {
          "output_type": "execute_result",
          "data": {
            "text/plain": [
              "141000.0"
            ]
          },
          "metadata": {
            "tags": []
          },
          "execution_count": 11
        }
      ]
    },
    {
      "cell_type": "code",
      "metadata": {
        "id": "PPhErbRau4Sj"
      },
      "source": [
        ""
      ],
      "execution_count": null,
      "outputs": []
    },
    {
      "cell_type": "code",
      "metadata": {
        "id": "UxbBOIsEu4VV"
      },
      "source": [
        ""
      ],
      "execution_count": null,
      "outputs": []
    },
    {
      "cell_type": "code",
      "metadata": {
        "id": "7gKXLw_oTZuX",
        "colab": {
          "base_uri": "https://localhost:8080/"
        },
        "outputId": "a1e22e99-192a-46bb-c363-5bf4162f0500"
      },
      "source": [
        "!pip install catboost"
      ],
      "execution_count": null,
      "outputs": [
        {
          "output_type": "stream",
          "text": [
            "Collecting catboost\n",
            "\u001b[?25l  Downloading https://files.pythonhosted.org/packages/47/80/8e9c57ec32dfed6ba2922bc5c96462cbf8596ce1a6f5de532ad1e43e53fe/catboost-0.25.1-cp37-none-manylinux1_x86_64.whl (67.3MB)\n",
            "\u001b[K     |████████████████████████████████| 67.3MB 71kB/s \n",
            "\u001b[?25hRequirement already satisfied: matplotlib in /usr/local/lib/python3.7/dist-packages (from catboost) (3.2.2)\n",
            "Requirement already satisfied: scipy in /usr/local/lib/python3.7/dist-packages (from catboost) (1.4.1)\n",
            "Requirement already satisfied: numpy>=1.16.0 in /usr/local/lib/python3.7/dist-packages (from catboost) (1.19.5)\n",
            "Requirement already satisfied: graphviz in /usr/local/lib/python3.7/dist-packages (from catboost) (0.10.1)\n",
            "Requirement already satisfied: pandas>=0.24.0 in /usr/local/lib/python3.7/dist-packages (from catboost) (1.1.5)\n",
            "Requirement already satisfied: plotly in /usr/local/lib/python3.7/dist-packages (from catboost) (4.4.1)\n",
            "Requirement already satisfied: six in /usr/local/lib/python3.7/dist-packages (from catboost) (1.15.0)\n",
            "Requirement already satisfied: kiwisolver>=1.0.1 in /usr/local/lib/python3.7/dist-packages (from matplotlib->catboost) (1.3.1)\n",
            "Requirement already satisfied: pyparsing!=2.0.4,!=2.1.2,!=2.1.6,>=2.0.1 in /usr/local/lib/python3.7/dist-packages (from matplotlib->catboost) (2.4.7)\n",
            "Requirement already satisfied: python-dateutil>=2.1 in /usr/local/lib/python3.7/dist-packages (from matplotlib->catboost) (2.8.1)\n",
            "Requirement already satisfied: cycler>=0.10 in /usr/local/lib/python3.7/dist-packages (from matplotlib->catboost) (0.10.0)\n",
            "Requirement already satisfied: pytz>=2017.2 in /usr/local/lib/python3.7/dist-packages (from pandas>=0.24.0->catboost) (2018.9)\n",
            "Requirement already satisfied: retrying>=1.3.3 in /usr/local/lib/python3.7/dist-packages (from plotly->catboost) (1.3.3)\n",
            "Installing collected packages: catboost\n",
            "Successfully installed catboost-0.25.1\n"
          ],
          "name": "stdout"
        }
      ]
    },
    {
      "cell_type": "code",
      "metadata": {
        "id": "BpSHeEgpc1TU"
      },
      "source": [
        "import time\n",
        "import warnings\n",
        "import numpy as np\n",
        "import pandas as pd\n",
        "import seaborn as sns\n",
        "from datetime import datetime\n",
        "from matplotlib import pyplot as plt\n",
        "\n",
        "from xgboost import XGBClassifier\n",
        "from lightgbm import LGBMClassifier\n",
        "from catboost import CatBoostClassifier\n",
        "from sklearn.preprocessing import LabelEncoder\n",
        "from sklearn.tree import DecisionTreeClassifier\n",
        "from sklearn.neighbors import KNeighborsClassifier\n",
        "from sklearn.linear_model import LogisticRegression\n",
        "from sklearn.model_selection import train_test_split\n",
        "from sklearn.metrics import accuracy_score, classification_report, roc_auc_score, confusion_matrix\n",
        "from google.colab import drive    # Only required if working on Google Colab\n",
        "\n",
        "sns.set()\n",
        "warnings.filterwarnings('ignore')\n",
        "%matplotlib inline"
      ],
      "execution_count": null,
      "outputs": []
    },
    {
      "cell_type": "markdown",
      "metadata": {
        "id": "vKZMsLv9gw_t"
      },
      "source": [
        "## UDFs"
      ]
    },
    {
      "cell_type": "code",
      "metadata": {
        "id": "3ZXoThbOm5Vy"
      },
      "source": [
        "# Create Data audit Report for continuous variables\n",
        "def cont_summary(x):\n",
        "    return pd.Series([x.count(), x.isnull().sum(), x.sum(), x.mean(), x.median(),  \n",
        "                      x.std(), x.var(), x.min(), x.quantile(0.01), x.quantile(0.05),\n",
        "                      x.quantile(0.10),x.quantile(0.25),x.quantile(0.50),x.quantile(0.75), \n",
        "                      x.quantile(0.90),x.quantile(0.95), x.quantile(0.99),x.max()], \n",
        "                     index = ['N', 'NMISS', 'SUM', 'MEAN','MEDIAN', 'STD', 'VAR', 'MIN', 'P1', \n",
        "                              'P5' ,'P10' ,'P25' ,'P50' ,'P75' ,'P90' ,'P95' ,'P99' ,'MAX'])"
      ],
      "execution_count": null,
      "outputs": []
    },
    {
      "cell_type": "code",
      "metadata": {
        "id": "P6iN5sDam5V0"
      },
      "source": [
        "# Create Data audit Report for categorical variables\n",
        "def cat_summary(x):\n",
        "    Mode = x.value_counts().sort_values(ascending=False)[0:1].reset_index()\n",
        "    return pd.Series([x.count(), x.isnull().sum(), Mode.iloc[0, 0], Mode.iloc[0, 1], \n",
        "                      round(Mode.iloc[0, 1] * 100/x.count(), 2)], \n",
        "                     index = ['N', 'NMISS', 'MODE', 'FREQ', 'PERCENT'])"
      ],
      "execution_count": null,
      "outputs": []
    },
    {
      "cell_type": "markdown",
      "metadata": {
        "id": "7IHpx6WVgt6p"
      },
      "source": [
        "## Data Import & Inspection"
      ]
    },
    {
      "cell_type": "code",
      "metadata": {
        "id": "DrqzmH9qdQM5"
      },
      "source": [
        "data = pd.read_csv('/content/gdrive/MyDrive/Education/flights.txt', sep='|')"
      ],
      "execution_count": null,
      "outputs": []
    },
    {
      "cell_type": "code",
      "metadata": {
        "id": "5Cj_3xafgE9K",
        "colab": {
          "base_uri": "https://localhost:8080/"
        },
        "outputId": "b0b75854-7a7e-4a8d-bcf9-c42de7cbb425"
      },
      "source": [
        "data.info()"
      ],
      "execution_count": null,
      "outputs": [
        {
          "output_type": "stream",
          "text": [
            "<class 'pandas.core.frame.DataFrame'>\n",
            "RangeIndex: 1191805 entries, 0 to 1191804\n",
            "Data columns (total 31 columns):\n",
            " #   Column             Non-Null Count    Dtype  \n",
            "---  ------             --------------    -----  \n",
            " 0   TRANSACTIONID      1191805 non-null  int64  \n",
            " 1   FLIGHTDATE         1191805 non-null  int64  \n",
            " 2   AIRLINECODE        1191805 non-null  object \n",
            " 3   AIRLINENAME        1191805 non-null  object \n",
            " 4   TAILNUM            1034988 non-null  object \n",
            " 5   FLIGHTNUM          1191805 non-null  int64  \n",
            " 6   ORIGINAIRPORTCODE  1191805 non-null  object \n",
            " 7   ORIGAIRPORTNAME    1191805 non-null  object \n",
            " 8   ORIGINCITYNAME     1191805 non-null  object \n",
            " 9   ORIGINSTATE        1180963 non-null  object \n",
            " 10  ORIGINSTATENAME    1180963 non-null  object \n",
            " 11  DESTAIRPORTCODE    1191805 non-null  object \n",
            " 12  DESTAIRPORTNAME    1191805 non-null  object \n",
            " 13  DESTCITYNAME       1191805 non-null  object \n",
            " 14  DESTSTATE          1180967 non-null  object \n",
            " 15  DESTSTATENAME      1180967 non-null  object \n",
            " 16  CRSDEPTIME         1191805 non-null  int64  \n",
            " 17  DEPTIME            1163470 non-null  float64\n",
            " 18  DEPDELAY           1163470 non-null  float64\n",
            " 19  TAXIOUT            1011833 non-null  float64\n",
            " 20  WHEELSOFF          1011791 non-null  float64\n",
            " 21  WHEELSON           1010225 non-null  float64\n",
            " 22  TAXIIN             1010320 non-null  float64\n",
            " 23  CRSARRTIME         1191805 non-null  int64  \n",
            " 24  ARRTIME            1161439 non-null  float64\n",
            " 25  ARRDELAY           1160545 non-null  float64\n",
            " 26  CRSELAPSEDTIME     1191383 non-null  float64\n",
            " 27  ACTUALELAPSEDTIME  1160545 non-null  float64\n",
            " 28  CANCELLED          1191805 non-null  object \n",
            " 29  DIVERTED           1191805 non-null  object \n",
            " 30  DISTANCE           1191805 non-null  object \n",
            "dtypes: float64(10), int64(5), object(16)\n",
            "memory usage: 281.9+ MB\n"
          ],
          "name": "stdout"
        }
      ]
    },
    {
      "cell_type": "code",
      "metadata": {
        "colab": {
          "base_uri": "https://localhost:8080/",
          "height": 567
        },
        "id": "5q4hurvoP_bv",
        "outputId": "b647a115-8919-424e-a0e0-1cdbf0112252"
      },
      "source": [
        "plt.figure(figsize=(12,9))\n",
        "ax = sns.countplot(x='CANCELLED', data=data)\n",
        "plt.show()"
      ],
      "execution_count": null,
      "outputs": [
        {
          "output_type": "display_data",
          "data": {
            "image/png": "[encoded data removed]",
            "text/plain": [
              "<Figure size 864x648 with 1 Axes>"
            ]
          },
          "metadata": {
            "tags": [],
            "needs_background": "light"
          }
        }
      ]
    },
    {
      "cell_type": "code",
      "metadata": {
        "colab": {
          "base_uri": "https://localhost:8080/",
          "height": 642
        },
        "id": "_iO0xm_SRpc9",
        "outputId": "3047be3a-334e-4dac-bd12-2cf0cb2b5593"
      },
      "source": [
        "# plt.figure(figsize=(12,9))\n",
        "# sns.heatmap(data.corr())\n",
        "# plt.show()\n",
        "# data.corr()"
      ],
      "execution_count": null,
      "outputs": [
        {
          "output_type": "execute_result",
          "data": {
            "text/html": [
              "<div>\n",
              "<style scoped>\n",
              "    .dataframe tbody tr th:only-of-type {\n",
              "        vertical-align: middle;\n",
              "    }\n",
              "\n",
              "    .dataframe tbody tr th {\n",
              "        vertical-align: top;\n",
              "    }\n",
              "\n",
              "    .dataframe thead th {\n",
              "        text-align: right;\n",
              "    }\n",
              "</style>\n",
              "<table border=\"1\" class=\"dataframe\">\n",
              "  <thead>\n",
              "    <tr style=\"text-align: right;\">\n",
              "      <th></th>\n",
              "      <th>TRANSACTIONID</th>\n",
              "      <th>FLIGHTNUM</th>\n",
              "      <th>CRSDEPTIME</th>\n",
              "      <th>DEPTIME</th>\n",
              "      <th>DEPDELAY</th>\n",
              "      <th>TAXIOUT</th>\n",
              "      <th>WHEELSOFF</th>\n",
              "      <th>WHEELSON</th>\n",
              "      <th>TAXIIN</th>\n",
              "      <th>CRSARRTIME</th>\n",
              "      <th>ARRTIME</th>\n",
              "      <th>ARRDELAY</th>\n",
              "      <th>CRSELAPSEDTIME</th>\n",
              "      <th>ACTUALELAPSEDTIME</th>\n",
              "      <th>CANCELLED</th>\n",
              "      <th>DIVERTED</th>\n",
              "      <th>DISTANCE</th>\n",
              "      <th>FLIGHTDATE_YEAR</th>\n",
              "      <th>FLIGHTDATE_MONTH</th>\n",
              "      <th>FLIGHTDATE_DAY</th>\n",
              "    </tr>\n",
              "  </thead>\n",
              "  <tbody>\n",
              "    <tr>\n",
              "      <th>TRANSACTIONID</th>\n",
              "      <td>1.000000</td>\n",
              "      <td>0.353843</td>\n",
              "      <td>0.001056</td>\n",
              "      <td>-0.016572</td>\n",
              "      <td>0.012784</td>\n",
              "      <td>0.040255</td>\n",
              "      <td>-0.017202</td>\n",
              "      <td>-0.011847</td>\n",
              "      <td>0.060961</td>\n",
              "      <td>0.019199</td>\n",
              "      <td>-0.009379</td>\n",
              "      <td>-0.030965</td>\n",
              "      <td>0.100038</td>\n",
              "      <td>0.080977</td>\n",
              "      <td>-0.023424</td>\n",
              "      <td>0.001736</td>\n",
              "      <td>0.059705</td>\n",
              "      <td>0.998261</td>\n",
              "      <td>0.006499</td>\n",
              "      <td>-0.000604</td>\n",
              "    </tr>\n",
              "    <tr>\n",
              "      <th>FLIGHTNUM</th>\n",
              "      <td>0.353843</td>\n",
              "      <td>1.000000</td>\n",
              "      <td>0.001483</td>\n",
              "      <td>-0.002624</td>\n",
              "      <td>0.015083</td>\n",
              "      <td>0.017657</td>\n",
              "      <td>-0.000266</td>\n",
              "      <td>-0.020882</td>\n",
              "      <td>0.026365</td>\n",
              "      <td>-0.010857</td>\n",
              "      <td>-0.017112</td>\n",
              "      <td>0.009818</td>\n",
              "      <td>-0.215148</td>\n",
              "      <td>-0.217638</td>\n",
              "      <td>0.015726</td>\n",
              "      <td>0.001996</td>\n",
              "      <td>-0.246202</td>\n",
              "      <td>0.353344</td>\n",
              "      <td>-0.006657</td>\n",
              "      <td>0.000355</td>\n",
              "    </tr>\n",
              "    <tr>\n",
              "      <th>CRSDEPTIME</th>\n",
              "      <td>0.001056</td>\n",
              "      <td>0.001483</td>\n",
              "      <td>1.000000</td>\n",
              "      <td>0.951410</td>\n",
              "      <td>0.103802</td>\n",
              "      <td>0.023301</td>\n",
              "      <td>0.928335</td>\n",
              "      <td>0.710707</td>\n",
              "      <td>-0.025417</td>\n",
              "      <td>0.799155</td>\n",
              "      <td>0.705317</td>\n",
              "      <td>0.092654</td>\n",
              "      <td>-0.042719</td>\n",
              "      <td>-0.044403</td>\n",
              "      <td>0.001360</td>\n",
              "      <td>-0.002995</td>\n",
              "      <td>-0.041450</td>\n",
              "      <td>0.000872</td>\n",
              "      <td>0.012272</td>\n",
              "      <td>0.000636</td>\n",
              "    </tr>\n",
              "    <tr>\n",
              "      <th>DEPTIME</th>\n",
              "      <td>-0.016572</td>\n",
              "      <td>-0.002624</td>\n",
              "      <td>0.951410</td>\n",
              "      <td>1.000000</td>\n",
              "      <td>0.165658</td>\n",
              "      <td>0.033293</td>\n",
              "      <td>0.979634</td>\n",
              "      <td>0.747018</td>\n",
              "      <td>-0.020868</td>\n",
              "      <td>0.760841</td>\n",
              "      <td>0.736814</td>\n",
              "      <td>0.152172</td>\n",
              "      <td>-0.033766</td>\n",
              "      <td>-0.034299</td>\n",
              "      <td>0.002987</td>\n",
              "      <td>0.000781</td>\n",
              "      <td>-0.034014</td>\n",
              "      <td>-0.016040</td>\n",
              "      <td>-0.007714</td>\n",
              "      <td>-0.003126</td>\n",
              "    </tr>\n",
              "    <tr>\n",
              "      <th>DEPDELAY</th>\n",
              "      <td>0.012784</td>\n",
              "      <td>0.015083</td>\n",
              "      <td>0.103802</td>\n",
              "      <td>0.165658</td>\n",
              "      <td>1.000000</td>\n",
              "      <td>0.066689</td>\n",
              "      <td>0.162861</td>\n",
              "      <td>0.078220</td>\n",
              "      <td>0.004436</td>\n",
              "      <td>0.100050</td>\n",
              "      <td>0.070799</td>\n",
              "      <td>0.879716</td>\n",
              "      <td>0.022443</td>\n",
              "      <td>0.028914</td>\n",
              "      <td>0.019749</td>\n",
              "      <td>0.030894</td>\n",
              "      <td>0.017516</td>\n",
              "      <td>0.014516</td>\n",
              "      <td>-0.052394</td>\n",
              "      <td>-0.017646</td>\n",
              "    </tr>\n",
              "    <tr>\n",
              "      <th>TAXIOUT</th>\n",
              "      <td>0.040255</td>\n",
              "      <td>0.017657</td>\n",
              "      <td>0.023301</td>\n",
              "      <td>0.033293</td>\n",
              "      <td>0.066689</td>\n",
              "      <td>1.000000</td>\n",
              "      <td>0.063215</td>\n",
              "      <td>0.053998</td>\n",
              "      <td>0.028647</td>\n",
              "      <td>0.044324</td>\n",
              "      <td>0.051497</td>\n",
              "      <td>0.275118</td>\n",
              "      <td>0.162398</td>\n",
              "      <td>0.263457</td>\n",
              "      <td>0.001970</td>\n",
              "      <td>0.013485</td>\n",
              "      <td>0.123663</td>\n",
              "      <td>0.042542</td>\n",
              "      <td>-0.022525</td>\n",
              "      <td>-0.001405</td>\n",
              "    </tr>\n",
              "    <tr>\n",
              "      <th>WHEELSOFF</th>\n",
              "      <td>-0.017202</td>\n",
              "      <td>-0.000266</td>\n",
              "      <td>0.928335</td>\n",
              "      <td>0.979634</td>\n",
              "      <td>0.162861</td>\n",
              "      <td>0.063215</td>\n",
              "      <td>1.000000</td>\n",
              "      <td>0.762896</td>\n",
              "      <td>-0.020018</td>\n",
              "      <td>0.759468</td>\n",
              "      <td>0.743648</td>\n",
              "      <td>0.155916</td>\n",
              "      <td>-0.032674</td>\n",
              "      <td>-0.030214</td>\n",
              "      <td>0.001532</td>\n",
              "      <td>0.000549</td>\n",
              "      <td>-0.035146</td>\n",
              "      <td>-0.016888</td>\n",
              "      <td>-0.007074</td>\n",
              "      <td>-0.003204</td>\n",
              "    </tr>\n",
              "    <tr>\n",
              "      <th>WHEELSON</th>\n",
              "      <td>-0.011847</td>\n",
              "      <td>-0.020882</td>\n",
              "      <td>0.710707</td>\n",
              "      <td>0.747018</td>\n",
              "      <td>0.078220</td>\n",
              "      <td>0.053998</td>\n",
              "      <td>0.762896</td>\n",
              "      <td>1.000000</td>\n",
              "      <td>-0.002640</td>\n",
              "      <td>0.868142</td>\n",
              "      <td>0.978819</td>\n",
              "      <td>0.076829</td>\n",
              "      <td>0.041845</td>\n",
              "      <td>0.044458</td>\n",
              "      <td>NaN</td>\n",
              "      <td>0.003486</td>\n",
              "      <td>0.037891</td>\n",
              "      <td>-0.011497</td>\n",
              "      <td>-0.006983</td>\n",
              "      <td>-0.000546</td>\n",
              "    </tr>\n",
              "    <tr>\n",
              "      <th>TAXIIN</th>\n",
              "      <td>0.060961</td>\n",
              "      <td>0.026365</td>\n",
              "      <td>-0.025417</td>\n",
              "      <td>-0.020868</td>\n",
              "      <td>0.004436</td>\n",
              "      <td>0.028647</td>\n",
              "      <td>-0.020018</td>\n",
              "      <td>-0.002640</td>\n",
              "      <td>1.000000</td>\n",
              "      <td>-0.005489</td>\n",
              "      <td>0.003599</td>\n",
              "      <td>0.059714</td>\n",
              "      <td>0.076485</td>\n",
              "      <td>0.102818</td>\n",
              "      <td>NaN</td>\n",
              "      <td>0.009001</td>\n",
              "      <td>0.059524</td>\n",
              "      <td>0.061723</td>\n",
              "      <td>-0.007697</td>\n",
              "      <td>-0.006332</td>\n",
              "    </tr>\n",
              "    <tr>\n",
              "      <th>CRSARRTIME</th>\n",
              "      <td>0.019199</td>\n",
              "      <td>-0.010857</td>\n",
              "      <td>0.799155</td>\n",
              "      <td>0.760841</td>\n",
              "      <td>0.100050</td>\n",
              "      <td>0.044324</td>\n",
              "      <td>0.759468</td>\n",
              "      <td>0.868142</td>\n",
              "      <td>-0.005489</td>\n",
              "      <td>1.000000</td>\n",
              "      <td>0.871942</td>\n",
              "      <td>0.089063</td>\n",
              "      <td>0.040229</td>\n",
              "      <td>0.038366</td>\n",
              "      <td>0.000058</td>\n",
              "      <td>-0.000942</td>\n",
              "      <td>0.035281</td>\n",
              "      <td>0.019051</td>\n",
              "      <td>0.011294</td>\n",
              "      <td>0.002404</td>\n",
              "    </tr>\n",
              "    <tr>\n",
              "      <th>ARRTIME</th>\n",
              "      <td>-0.009379</td>\n",
              "      <td>-0.017112</td>\n",
              "      <td>0.705317</td>\n",
              "      <td>0.736814</td>\n",
              "      <td>0.070799</td>\n",
              "      <td>0.051497</td>\n",
              "      <td>0.743648</td>\n",
              "      <td>0.978819</td>\n",
              "      <td>0.003599</td>\n",
              "      <td>0.871942</td>\n",
              "      <td>1.000000</td>\n",
              "      <td>0.070335</td>\n",
              "      <td>0.041424</td>\n",
              "      <td>0.044182</td>\n",
              "      <td>NaN</td>\n",
              "      <td>0.002777</td>\n",
              "      <td>0.036177</td>\n",
              "      <td>-0.008913</td>\n",
              "      <td>-0.006917</td>\n",
              "      <td>-0.000052</td>\n",
              "    </tr>\n",
              "    <tr>\n",
              "      <th>ARRDELAY</th>\n",
              "      <td>-0.030965</td>\n",
              "      <td>0.009818</td>\n",
              "      <td>0.092654</td>\n",
              "      <td>0.152172</td>\n",
              "      <td>0.879716</td>\n",
              "      <td>0.275118</td>\n",
              "      <td>0.155916</td>\n",
              "      <td>0.076829</td>\n",
              "      <td>0.059714</td>\n",
              "      <td>0.089063</td>\n",
              "      <td>0.070335</td>\n",
              "      <td>1.000000</td>\n",
              "      <td>-0.022749</td>\n",
              "      <td>0.058432</td>\n",
              "      <td>NaN</td>\n",
              "      <td>NaN</td>\n",
              "      <td>-0.017881</td>\n",
              "      <td>-0.028956</td>\n",
              "      <td>-0.054159</td>\n",
              "      <td>-0.018129</td>\n",
              "    </tr>\n",
              "    <tr>\n",
              "      <th>CRSELAPSEDTIME</th>\n",
              "      <td>0.100038</td>\n",
              "      <td>-0.215148</td>\n",
              "      <td>-0.042719</td>\n",
              "      <td>-0.033766</td>\n",
              "      <td>0.022443</td>\n",
              "      <td>0.162398</td>\n",
              "      <td>-0.032674</td>\n",
              "      <td>0.041845</td>\n",
              "      <td>0.076485</td>\n",
              "      <td>0.040229</td>\n",
              "      <td>0.041424</td>\n",
              "      <td>-0.022749</td>\n",
              "      <td>1.000000</td>\n",
              "      <td>0.982889</td>\n",
              "      <td>-0.019481</td>\n",
              "      <td>0.013481</td>\n",
              "      <td>0.983865</td>\n",
              "      <td>0.102106</td>\n",
              "      <td>-0.011546</td>\n",
              "      <td>-0.003296</td>\n",
              "    </tr>\n",
              "    <tr>\n",
              "      <th>ACTUALELAPSEDTIME</th>\n",
              "      <td>0.080977</td>\n",
              "      <td>-0.217638</td>\n",
              "      <td>-0.044403</td>\n",
              "      <td>-0.034299</td>\n",
              "      <td>0.028914</td>\n",
              "      <td>0.263457</td>\n",
              "      <td>-0.030214</td>\n",
              "      <td>0.044458</td>\n",
              "      <td>0.102818</td>\n",
              "      <td>0.038366</td>\n",
              "      <td>0.044182</td>\n",
              "      <td>0.058432</td>\n",
              "      <td>0.982889</td>\n",
              "      <td>1.000000</td>\n",
              "      <td>NaN</td>\n",
              "      <td>NaN</td>\n",
              "      <td>0.971182</td>\n",
              "      <td>0.083257</td>\n",
              "      <td>-0.015317</td>\n",
              "      <td>-0.004197</td>\n",
              "    </tr>\n",
              "    <tr>\n",
              "      <th>CANCELLED</th>\n",
              "      <td>-0.023424</td>\n",
              "      <td>0.015726</td>\n",
              "      <td>0.001360</td>\n",
              "      <td>0.002987</td>\n",
              "      <td>0.019749</td>\n",
              "      <td>0.001970</td>\n",
              "      <td>0.001532</td>\n",
              "      <td>NaN</td>\n",
              "      <td>NaN</td>\n",
              "      <td>0.000058</td>\n",
              "      <td>NaN</td>\n",
              "      <td>NaN</td>\n",
              "      <td>-0.019481</td>\n",
              "      <td>NaN</td>\n",
              "      <td>1.000000</td>\n",
              "      <td>-0.007398</td>\n",
              "      <td>-0.023621</td>\n",
              "      <td>-0.020543</td>\n",
              "      <td>-0.019096</td>\n",
              "      <td>-0.004715</td>\n",
              "    </tr>\n",
              "    <tr>\n",
              "      <th>DIVERTED</th>\n",
              "      <td>0.001736</td>\n",
              "      <td>0.001996</td>\n",
              "      <td>-0.002995</td>\n",
              "      <td>0.000781</td>\n",
              "      <td>0.030894</td>\n",
              "      <td>0.013485</td>\n",
              "      <td>0.000549</td>\n",
              "      <td>0.003486</td>\n",
              "      <td>0.009001</td>\n",
              "      <td>-0.000942</td>\n",
              "      <td>0.002777</td>\n",
              "      <td>NaN</td>\n",
              "      <td>0.013481</td>\n",
              "      <td>NaN</td>\n",
              "      <td>-0.007398</td>\n",
              "      <td>1.000000</td>\n",
              "      <td>0.013378</td>\n",
              "      <td>0.001916</td>\n",
              "      <td>-0.007776</td>\n",
              "      <td>-0.002243</td>\n",
              "    </tr>\n",
              "    <tr>\n",
              "      <th>DISTANCE</th>\n",
              "      <td>0.059705</td>\n",
              "      <td>-0.246202</td>\n",
              "      <td>-0.041450</td>\n",
              "      <td>-0.034014</td>\n",
              "      <td>0.017516</td>\n",
              "      <td>0.123663</td>\n",
              "      <td>-0.035146</td>\n",
              "      <td>0.037891</td>\n",
              "      <td>0.059524</td>\n",
              "      <td>0.035281</td>\n",
              "      <td>0.036177</td>\n",
              "      <td>-0.017881</td>\n",
              "      <td>0.983865</td>\n",
              "      <td>0.971182</td>\n",
              "      <td>-0.023621</td>\n",
              "      <td>0.013378</td>\n",
              "      <td>1.000000</td>\n",
              "      <td>0.061145</td>\n",
              "      <td>0.002796</td>\n",
              "      <td>-0.004198</td>\n",
              "    </tr>\n",
              "    <tr>\n",
              "      <th>FLIGHTDATE_YEAR</th>\n",
              "      <td>0.998261</td>\n",
              "      <td>0.353344</td>\n",
              "      <td>0.000872</td>\n",
              "      <td>-0.016040</td>\n",
              "      <td>0.014516</td>\n",
              "      <td>0.042542</td>\n",
              "      <td>-0.016888</td>\n",
              "      <td>-0.011497</td>\n",
              "      <td>0.061723</td>\n",
              "      <td>0.019051</td>\n",
              "      <td>-0.008913</td>\n",
              "      <td>-0.028956</td>\n",
              "      <td>0.102106</td>\n",
              "      <td>0.083257</td>\n",
              "      <td>-0.020543</td>\n",
              "      <td>0.001916</td>\n",
              "      <td>0.061145</td>\n",
              "      <td>1.000000</td>\n",
              "      <td>-0.027330</td>\n",
              "      <td>-0.000147</td>\n",
              "    </tr>\n",
              "    <tr>\n",
              "      <th>FLIGHTDATE_MONTH</th>\n",
              "      <td>0.006499</td>\n",
              "      <td>-0.006657</td>\n",
              "      <td>0.012272</td>\n",
              "      <td>-0.007714</td>\n",
              "      <td>-0.052394</td>\n",
              "      <td>-0.022525</td>\n",
              "      <td>-0.007074</td>\n",
              "      <td>-0.006983</td>\n",
              "      <td>-0.007697</td>\n",
              "      <td>0.011294</td>\n",
              "      <td>-0.006917</td>\n",
              "      <td>-0.054159</td>\n",
              "      <td>-0.011546</td>\n",
              "      <td>-0.015317</td>\n",
              "      <td>-0.019096</td>\n",
              "      <td>-0.007776</td>\n",
              "      <td>0.002796</td>\n",
              "      <td>-0.027330</td>\n",
              "      <td>1.000000</td>\n",
              "      <td>-0.021299</td>\n",
              "    </tr>\n",
              "    <tr>\n",
              "      <th>FLIGHTDATE_DAY</th>\n",
              "      <td>-0.000604</td>\n",
              "      <td>0.000355</td>\n",
              "      <td>0.000636</td>\n",
              "      <td>-0.003126</td>\n",
              "      <td>-0.017646</td>\n",
              "      <td>-0.001405</td>\n",
              "      <td>-0.003204</td>\n",
              "      <td>-0.000546</td>\n",
              "      <td>-0.006332</td>\n",
              "      <td>0.002404</td>\n",
              "      <td>-0.000052</td>\n",
              "      <td>-0.018129</td>\n",
              "      <td>-0.003296</td>\n",
              "      <td>-0.004197</td>\n",
              "      <td>-0.004715</td>\n",
              "      <td>-0.002243</td>\n",
              "      <td>-0.004198</td>\n",
              "      <td>-0.000147</td>\n",
              "      <td>-0.021299</td>\n",
              "      <td>1.000000</td>\n",
              "    </tr>\n",
              "  </tbody>\n",
              "</table>\n",
              "</div>"
            ],
            "text/plain": [
              "                   TRANSACTIONID  FLIGHTNUM  ...  FLIGHTDATE_MONTH  FLIGHTDATE_DAY\n",
              "TRANSACTIONID           1.000000   0.353843  ...          0.006499       -0.000604\n",
              "FLIGHTNUM               0.353843   1.000000  ...         -0.006657        0.000355\n",
              "CRSDEPTIME              0.001056   0.001483  ...          0.012272        0.000636\n",
              "DEPTIME                -0.016572  -0.002624  ...         -0.007714       -0.003126\n",
              "DEPDELAY                0.012784   0.015083  ...         -0.052394       -0.017646\n",
              "TAXIOUT                 0.040255   0.017657  ...         -0.022525       -0.001405\n",
              "WHEELSOFF              -0.017202  -0.000266  ...         -0.007074       -0.003204\n",
              "WHEELSON               -0.011847  -0.020882  ...         -0.006983       -0.000546\n",
              "TAXIIN                  0.060961   0.026365  ...         -0.007697       -0.006332\n",
              "CRSARRTIME              0.019199  -0.010857  ...          0.011294        0.002404\n",
              "ARRTIME                -0.009379  -0.017112  ...         -0.006917       -0.000052\n",
              "ARRDELAY               -0.030965   0.009818  ...         -0.054159       -0.018129\n",
              "CRSELAPSEDTIME          0.100038  -0.215148  ...         -0.011546       -0.003296\n",
              "ACTUALELAPSEDTIME       0.080977  -0.217638  ...         -0.015317       -0.004197\n",
              "CANCELLED              -0.023424   0.015726  ...         -0.019096       -0.004715\n",
              "DIVERTED                0.001736   0.001996  ...         -0.007776       -0.002243\n",
              "DISTANCE                0.059705  -0.246202  ...          0.002796       -0.004198\n",
              "FLIGHTDATE_YEAR         0.998261   0.353344  ...         -0.027330       -0.000147\n",
              "FLIGHTDATE_MONTH        0.006499  -0.006657  ...          1.000000       -0.021299\n",
              "FLIGHTDATE_DAY         -0.000604   0.000355  ...         -0.021299        1.000000\n",
              "\n",
              "[20 rows x 20 columns]"
            ]
          },
          "metadata": {
            "tags": []
          },
          "execution_count": 118
        }
      ]
    },
    {
      "cell_type": "code",
      "metadata": {
        "id": "zepyPo7vgY9P",
        "colab": {
          "base_uri": "https://localhost:8080/",
          "height": 455
        },
        "outputId": "98f08256-8ed4-43c2-8532-0c1589125041"
      },
      "source": [
        "data.head()"
      ],
      "execution_count": null,
      "outputs": [
        {
          "output_type": "execute_result",
          "data": {
            "text/html": [
              "<div>\n",
              "<style scoped>\n",
              "    .dataframe tbody tr th:only-of-type {\n",
              "        vertical-align: middle;\n",
              "    }\n",
              "\n",
              "    .dataframe tbody tr th {\n",
              "        vertical-align: top;\n",
              "    }\n",
              "\n",
              "    .dataframe thead th {\n",
              "        text-align: right;\n",
              "    }\n",
              "</style>\n",
              "<table border=\"1\" class=\"dataframe\">\n",
              "  <thead>\n",
              "    <tr style=\"text-align: right;\">\n",
              "      <th></th>\n",
              "      <th>TRANSACTIONID</th>\n",
              "      <th>FLIGHTDATE</th>\n",
              "      <th>AIRLINECODE</th>\n",
              "      <th>AIRLINENAME</th>\n",
              "      <th>TAILNUM</th>\n",
              "      <th>FLIGHTNUM</th>\n",
              "      <th>ORIGINAIRPORTCODE</th>\n",
              "      <th>ORIGAIRPORTNAME</th>\n",
              "      <th>ORIGINCITYNAME</th>\n",
              "      <th>ORIGINSTATE</th>\n",
              "      <th>ORIGINSTATENAME</th>\n",
              "      <th>DESTAIRPORTCODE</th>\n",
              "      <th>DESTAIRPORTNAME</th>\n",
              "      <th>DESTCITYNAME</th>\n",
              "      <th>DESTSTATE</th>\n",
              "      <th>DESTSTATENAME</th>\n",
              "      <th>CRSDEPTIME</th>\n",
              "      <th>DEPTIME</th>\n",
              "      <th>DEPDELAY</th>\n",
              "      <th>TAXIOUT</th>\n",
              "      <th>WHEELSOFF</th>\n",
              "      <th>WHEELSON</th>\n",
              "      <th>TAXIIN</th>\n",
              "      <th>CRSARRTIME</th>\n",
              "      <th>ARRTIME</th>\n",
              "      <th>ARRDELAY</th>\n",
              "      <th>CRSELAPSEDTIME</th>\n",
              "      <th>ACTUALELAPSEDTIME</th>\n",
              "      <th>CANCELLED</th>\n",
              "      <th>DIVERTED</th>\n",
              "      <th>DISTANCE</th>\n",
              "    </tr>\n",
              "  </thead>\n",
              "  <tbody>\n",
              "    <tr>\n",
              "      <th>0</th>\n",
              "      <td>54548800</td>\n",
              "      <td>20020101</td>\n",
              "      <td>WN</td>\n",
              "      <td>Southwest Airlines Co.: WN</td>\n",
              "      <td>N103@@</td>\n",
              "      <td>1425</td>\n",
              "      <td>ABQ</td>\n",
              "      <td>AlbuquerqueNM: Albuquerque International Sunport</td>\n",
              "      <td>Albuquerque</td>\n",
              "      <td>NM</td>\n",
              "      <td>New Mexico</td>\n",
              "      <td>DAL</td>\n",
              "      <td>DallasTX: Dallas Love Field</td>\n",
              "      <td>Dallas</td>\n",
              "      <td>TX</td>\n",
              "      <td>Texas</td>\n",
              "      <td>1425</td>\n",
              "      <td>1425.0</td>\n",
              "      <td>0.0</td>\n",
              "      <td>8.0</td>\n",
              "      <td>1433.0</td>\n",
              "      <td>1648.0</td>\n",
              "      <td>4.0</td>\n",
              "      <td>1655</td>\n",
              "      <td>1652.0</td>\n",
              "      <td>-3.0</td>\n",
              "      <td>90.0</td>\n",
              "      <td>87.0</td>\n",
              "      <td>F</td>\n",
              "      <td>False</td>\n",
              "      <td>580 miles</td>\n",
              "    </tr>\n",
              "    <tr>\n",
              "      <th>1</th>\n",
              "      <td>55872300</td>\n",
              "      <td>20020101</td>\n",
              "      <td>CO</td>\n",
              "      <td>Continental Air Lines Inc.: CO</td>\n",
              "      <td>N83872</td>\n",
              "      <td>150</td>\n",
              "      <td>ABQ</td>\n",
              "      <td>AlbuquerqueNM: Albuquerque International Sunport</td>\n",
              "      <td>Albuquerque</td>\n",
              "      <td>NM</td>\n",
              "      <td>New Mexico</td>\n",
              "      <td>IAH</td>\n",
              "      <td>HoustonTX: George Bush Intercontinental/Houston</td>\n",
              "      <td>Houston</td>\n",
              "      <td>TX</td>\n",
              "      <td>Texas</td>\n",
              "      <td>1130</td>\n",
              "      <td>1136.0</td>\n",
              "      <td>6.0</td>\n",
              "      <td>12.0</td>\n",
              "      <td>1148.0</td>\n",
              "      <td>1419.0</td>\n",
              "      <td>16.0</td>\n",
              "      <td>1426</td>\n",
              "      <td>1435.0</td>\n",
              "      <td>9.0</td>\n",
              "      <td>116.0</td>\n",
              "      <td>119.0</td>\n",
              "      <td>False</td>\n",
              "      <td>F</td>\n",
              "      <td>744 miles</td>\n",
              "    </tr>\n",
              "    <tr>\n",
              "      <th>2</th>\n",
              "      <td>54388800</td>\n",
              "      <td>20020101</td>\n",
              "      <td>WN</td>\n",
              "      <td>Southwest Airlines Co.: WN</td>\n",
              "      <td>N334@@</td>\n",
              "      <td>249</td>\n",
              "      <td>ABQ</td>\n",
              "      <td>AlbuquerqueNM: Albuquerque International Sunport</td>\n",
              "      <td>Albuquerque</td>\n",
              "      <td>NM</td>\n",
              "      <td>New Mexico</td>\n",
              "      <td>MCI</td>\n",
              "      <td>Kansas CityMO: Kansas City International</td>\n",
              "      <td>Kansas City</td>\n",
              "      <td>MO</td>\n",
              "      <td>Missouri</td>\n",
              "      <td>1215</td>\n",
              "      <td>1338.0</td>\n",
              "      <td>83.0</td>\n",
              "      <td>7.0</td>\n",
              "      <td>1345.0</td>\n",
              "      <td>1618.0</td>\n",
              "      <td>2.0</td>\n",
              "      <td>1500</td>\n",
              "      <td>1620.0</td>\n",
              "      <td>80.0</td>\n",
              "      <td>105.0</td>\n",
              "      <td>102.0</td>\n",
              "      <td>F</td>\n",
              "      <td>False</td>\n",
              "      <td>718 miles</td>\n",
              "    </tr>\n",
              "    <tr>\n",
              "      <th>3</th>\n",
              "      <td>54486500</td>\n",
              "      <td>20020101</td>\n",
              "      <td>WN</td>\n",
              "      <td>Southwest Airlines Co.: WN</td>\n",
              "      <td>N699@@</td>\n",
              "      <td>902</td>\n",
              "      <td>ABQ</td>\n",
              "      <td>AlbuquerqueNM: Albuquerque International Sunport</td>\n",
              "      <td>Albuquerque</td>\n",
              "      <td>NM</td>\n",
              "      <td>New Mexico</td>\n",
              "      <td>LAS</td>\n",
              "      <td>Las VegasNV: McCarran International</td>\n",
              "      <td>Las Vegas</td>\n",
              "      <td>NV</td>\n",
              "      <td>Nevada</td>\n",
              "      <td>1925</td>\n",
              "      <td>1925.0</td>\n",
              "      <td>0.0</td>\n",
              "      <td>5.0</td>\n",
              "      <td>1930.0</td>\n",
              "      <td>1947.0</td>\n",
              "      <td>1.0</td>\n",
              "      <td>1950</td>\n",
              "      <td>1948.0</td>\n",
              "      <td>-2.0</td>\n",
              "      <td>85.0</td>\n",
              "      <td>83.0</td>\n",
              "      <td>0</td>\n",
              "      <td>0</td>\n",
              "      <td>487 miles</td>\n",
              "    </tr>\n",
              "    <tr>\n",
              "      <th>4</th>\n",
              "      <td>55878700</td>\n",
              "      <td>20020103</td>\n",
              "      <td>CO</td>\n",
              "      <td>Continental Air Lines Inc.: CO</td>\n",
              "      <td>N58606</td>\n",
              "      <td>234</td>\n",
              "      <td>ABQ</td>\n",
              "      <td>AlbuquerqueNM: Albuquerque International Sunport</td>\n",
              "      <td>Albuquerque</td>\n",
              "      <td>NM</td>\n",
              "      <td>New Mexico</td>\n",
              "      <td>IAH</td>\n",
              "      <td>HoustonTX: George Bush Intercontinental/Houston</td>\n",
              "      <td>Houston</td>\n",
              "      <td>TX</td>\n",
              "      <td>Texas</td>\n",
              "      <td>1455</td>\n",
              "      <td>1453.0</td>\n",
              "      <td>-2.0</td>\n",
              "      <td>11.0</td>\n",
              "      <td>1504.0</td>\n",
              "      <td>1742.0</td>\n",
              "      <td>5.0</td>\n",
              "      <td>1750</td>\n",
              "      <td>1747.0</td>\n",
              "      <td>-3.0</td>\n",
              "      <td>115.0</td>\n",
              "      <td>114.0</td>\n",
              "      <td>F</td>\n",
              "      <td>False</td>\n",
              "      <td>744 miles</td>\n",
              "    </tr>\n",
              "  </tbody>\n",
              "</table>\n",
              "</div>"
            ],
            "text/plain": [
              "   TRANSACTIONID  FLIGHTDATE AIRLINECODE  ... CANCELLED DIVERTED   DISTANCE\n",
              "0       54548800    20020101          WN  ...         F    False  580 miles\n",
              "1       55872300    20020101          CO  ...     False        F  744 miles\n",
              "2       54388800    20020101          WN  ...         F    False  718 miles\n",
              "3       54486500    20020101          WN  ...         0        0  487 miles\n",
              "4       55878700    20020103          CO  ...         F    False  744 miles\n",
              "\n",
              "[5 rows x 31 columns]"
            ]
          },
          "metadata": {
            "tags": []
          },
          "execution_count": 8
        }
      ]
    },
    {
      "cell_type": "code",
      "metadata": {
        "id": "koqLLKZfga86",
        "colab": {
          "base_uri": "https://localhost:8080/",
          "height": 422
        },
        "outputId": "f27a707b-2e1a-45c3-e09c-f20460de01c9"
      },
      "source": [
        "data.tail()"
      ],
      "execution_count": null,
      "outputs": [
        {
          "output_type": "execute_result",
          "data": {
            "text/html": [
              "<div>\n",
              "<style scoped>\n",
              "    .dataframe tbody tr th:only-of-type {\n",
              "        vertical-align: middle;\n",
              "    }\n",
              "\n",
              "    .dataframe tbody tr th {\n",
              "        vertical-align: top;\n",
              "    }\n",
              "\n",
              "    .dataframe thead th {\n",
              "        text-align: right;\n",
              "    }\n",
              "</style>\n",
              "<table border=\"1\" class=\"dataframe\">\n",
              "  <thead>\n",
              "    <tr style=\"text-align: right;\">\n",
              "      <th></th>\n",
              "      <th>TRANSACTIONID</th>\n",
              "      <th>FLIGHTDATE</th>\n",
              "      <th>AIRLINECODE</th>\n",
              "      <th>AIRLINENAME</th>\n",
              "      <th>TAILNUM</th>\n",
              "      <th>FLIGHTNUM</th>\n",
              "      <th>ORIGINAIRPORTCODE</th>\n",
              "      <th>ORIGAIRPORTNAME</th>\n",
              "      <th>ORIGINCITYNAME</th>\n",
              "      <th>ORIGINSTATE</th>\n",
              "      <th>ORIGINSTATENAME</th>\n",
              "      <th>DESTAIRPORTCODE</th>\n",
              "      <th>DESTAIRPORTNAME</th>\n",
              "      <th>DESTCITYNAME</th>\n",
              "      <th>DESTSTATE</th>\n",
              "      <th>DESTSTATENAME</th>\n",
              "      <th>CRSDEPTIME</th>\n",
              "      <th>DEPTIME</th>\n",
              "      <th>DEPDELAY</th>\n",
              "      <th>TAXIOUT</th>\n",
              "      <th>WHEELSOFF</th>\n",
              "      <th>WHEELSON</th>\n",
              "      <th>TAXIIN</th>\n",
              "      <th>CRSARRTIME</th>\n",
              "      <th>ARRTIME</th>\n",
              "      <th>ARRDELAY</th>\n",
              "      <th>CRSELAPSEDTIME</th>\n",
              "      <th>ACTUALELAPSEDTIME</th>\n",
              "      <th>CANCELLED</th>\n",
              "      <th>DIVERTED</th>\n",
              "      <th>DISTANCE</th>\n",
              "    </tr>\n",
              "  </thead>\n",
              "  <tbody>\n",
              "    <tr>\n",
              "      <th>1191800</th>\n",
              "      <td>126750200</td>\n",
              "      <td>20130106</td>\n",
              "      <td>EV</td>\n",
              "      <td>ExpressJet Airlines Inc.: EV</td>\n",
              "      <td>N683BR</td>\n",
              "      <td>5272</td>\n",
              "      <td>ATL</td>\n",
              "      <td>AtlantaGA: Hartsfield-Jackson Atlanta Internat...</td>\n",
              "      <td>Atlanta</td>\n",
              "      <td>GA</td>\n",
              "      <td>Georgia</td>\n",
              "      <td>DAL</td>\n",
              "      <td>DallasTX: Dallas Love Field</td>\n",
              "      <td>Dallas</td>\n",
              "      <td>TX</td>\n",
              "      <td>Texas</td>\n",
              "      <td>1357</td>\n",
              "      <td>1348.0</td>\n",
              "      <td>-9.0</td>\n",
              "      <td>22.0</td>\n",
              "      <td>1410.0</td>\n",
              "      <td>1500.0</td>\n",
              "      <td>3.0</td>\n",
              "      <td>1523</td>\n",
              "      <td>1503.0</td>\n",
              "      <td>-20.0</td>\n",
              "      <td>146.0</td>\n",
              "      <td>135.0</td>\n",
              "      <td>0</td>\n",
              "      <td>0</td>\n",
              "      <td>721 miles</td>\n",
              "    </tr>\n",
              "    <tr>\n",
              "      <th>1191801</th>\n",
              "      <td>127294500</td>\n",
              "      <td>20130106</td>\n",
              "      <td>DL</td>\n",
              "      <td>Delta Air Lines Inc.: DL</td>\n",
              "      <td>N949DL</td>\n",
              "      <td>1711</td>\n",
              "      <td>ATL</td>\n",
              "      <td>AtlantaGA: Hartsfield-Jackson Atlanta Internat...</td>\n",
              "      <td>Atlanta</td>\n",
              "      <td>GA</td>\n",
              "      <td>Georgia</td>\n",
              "      <td>DFW</td>\n",
              "      <td>Dallas/Fort WorthTX: Dallas/Fort Worth Interna...</td>\n",
              "      <td>Dallas/Fort Worth</td>\n",
              "      <td>TX</td>\n",
              "      <td>Texas</td>\n",
              "      <td>2150</td>\n",
              "      <td>2147.0</td>\n",
              "      <td>-3.0</td>\n",
              "      <td>23.0</td>\n",
              "      <td>2210.0</td>\n",
              "      <td>2307.0</td>\n",
              "      <td>10.0</td>\n",
              "      <td>2321</td>\n",
              "      <td>2317.0</td>\n",
              "      <td>-4.0</td>\n",
              "      <td>151.0</td>\n",
              "      <td>150.0</td>\n",
              "      <td>False</td>\n",
              "      <td>F</td>\n",
              "      <td>731 miles</td>\n",
              "    </tr>\n",
              "    <tr>\n",
              "      <th>1191802</th>\n",
              "      <td>127294900</td>\n",
              "      <td>20130106</td>\n",
              "      <td>DL</td>\n",
              "      <td>Delta Air Lines Inc.: DL</td>\n",
              "      <td>N907DE</td>\n",
              "      <td>1810</td>\n",
              "      <td>ATL</td>\n",
              "      <td>AtlantaGA: Hartsfield-Jackson Atlanta Internat...</td>\n",
              "      <td>Atlanta</td>\n",
              "      <td>GA</td>\n",
              "      <td>Georgia</td>\n",
              "      <td>DFW</td>\n",
              "      <td>Dallas/Fort WorthTX: Dallas/Fort Worth Interna...</td>\n",
              "      <td>Dallas/Fort Worth</td>\n",
              "      <td>TX</td>\n",
              "      <td>Texas</td>\n",
              "      <td>1617</td>\n",
              "      <td>1617.0</td>\n",
              "      <td>0.0</td>\n",
              "      <td>18.0</td>\n",
              "      <td>1635.0</td>\n",
              "      <td>1728.0</td>\n",
              "      <td>9.0</td>\n",
              "      <td>1750</td>\n",
              "      <td>1737.0</td>\n",
              "      <td>-13.0</td>\n",
              "      <td>153.0</td>\n",
              "      <td>140.0</td>\n",
              "      <td>F</td>\n",
              "      <td>False</td>\n",
              "      <td>731 miles</td>\n",
              "    </tr>\n",
              "    <tr>\n",
              "      <th>1191803</th>\n",
              "      <td>126594900</td>\n",
              "      <td>20130106</td>\n",
              "      <td>EV</td>\n",
              "      <td>ExpressJet Airlines Inc.: EV</td>\n",
              "      <td>N855AS</td>\n",
              "      <td>5208</td>\n",
              "      <td>ATL</td>\n",
              "      <td>AtlantaGA: Hartsfield-Jackson Atlanta Internat...</td>\n",
              "      <td>Atlanta</td>\n",
              "      <td>GA</td>\n",
              "      <td>Georgia</td>\n",
              "      <td>FWA</td>\n",
              "      <td>Fort WayneIN: Fort Wayne International</td>\n",
              "      <td>Fort Wayne</td>\n",
              "      <td>IN</td>\n",
              "      <td>Indiana</td>\n",
              "      <td>1516</td>\n",
              "      <td>1514.0</td>\n",
              "      <td>-2.0</td>\n",
              "      <td>21.0</td>\n",
              "      <td>1535.0</td>\n",
              "      <td>1651.0</td>\n",
              "      <td>4.0</td>\n",
              "      <td>1658</td>\n",
              "      <td>1655.0</td>\n",
              "      <td>-3.0</td>\n",
              "      <td>102.0</td>\n",
              "      <td>101.0</td>\n",
              "      <td>False</td>\n",
              "      <td>F</td>\n",
              "      <td>508 miles</td>\n",
              "    </tr>\n",
              "    <tr>\n",
              "      <th>1191804</th>\n",
              "      <td>126620300</td>\n",
              "      <td>20130106</td>\n",
              "      <td>EV</td>\n",
              "      <td>ExpressJet Airlines Inc.: EV</td>\n",
              "      <td>N138EV</td>\n",
              "      <td>5549</td>\n",
              "      <td>ATL</td>\n",
              "      <td>AtlantaGA: Hartsfield-Jackson Atlanta Internat...</td>\n",
              "      <td>Atlanta</td>\n",
              "      <td>GA</td>\n",
              "      <td>Georgia</td>\n",
              "      <td>GSO</td>\n",
              "      <td>Greensboro/High PointNC: Piedmont Triad Intern...</td>\n",
              "      <td>Greensboro/High Point</td>\n",
              "      <td>NC</td>\n",
              "      <td>North Carolina</td>\n",
              "      <td>1452</td>\n",
              "      <td>1458.0</td>\n",
              "      <td>6.0</td>\n",
              "      <td>27.0</td>\n",
              "      <td>1525.0</td>\n",
              "      <td>1611.0</td>\n",
              "      <td>4.0</td>\n",
              "      <td>1609</td>\n",
              "      <td>1615.0</td>\n",
              "      <td>6.0</td>\n",
              "      <td>77.0</td>\n",
              "      <td>77.0</td>\n",
              "      <td>False</td>\n",
              "      <td>False</td>\n",
              "      <td>306 miles</td>\n",
              "    </tr>\n",
              "  </tbody>\n",
              "</table>\n",
              "</div>"
            ],
            "text/plain": [
              "         TRANSACTIONID  FLIGHTDATE AIRLINECODE  ... CANCELLED DIVERTED   DISTANCE\n",
              "1191800      126750200    20130106          EV  ...         0        0  721 miles\n",
              "1191801      127294500    20130106          DL  ...     False        F  731 miles\n",
              "1191802      127294900    20130106          DL  ...         F    False  731 miles\n",
              "1191803      126594900    20130106          EV  ...     False        F  508 miles\n",
              "1191804      126620300    20130106          EV  ...     False    False  306 miles\n",
              "\n",
              "[5 rows x 31 columns]"
            ]
          },
          "metadata": {
            "tags": []
          },
          "execution_count": 9
        }
      ]
    },
    {
      "cell_type": "code",
      "metadata": {
        "id": "RthlbLdygb5M",
        "colab": {
          "base_uri": "https://localhost:8080/",
          "height": 416
        },
        "outputId": "fefd9b0e-43c7-4ff0-edda-fbabed07ed3c"
      },
      "source": [
        "data.describe(include='all')"
      ],
      "execution_count": null,
      "outputs": [
        {
          "output_type": "execute_result",
          "data": {
            "text/html": [
              "<div>\n",
              "<style scoped>\n",
              "    .dataframe tbody tr th:only-of-type {\n",
              "        vertical-align: middle;\n",
              "    }\n",
              "\n",
              "    .dataframe tbody tr th {\n",
              "        vertical-align: top;\n",
              "    }\n",
              "\n",
              "    .dataframe thead th {\n",
              "        text-align: right;\n",
              "    }\n",
              "</style>\n",
              "<table border=\"1\" class=\"dataframe\">\n",
              "  <thead>\n",
              "    <tr style=\"text-align: right;\">\n",
              "      <th></th>\n",
              "      <th>TRANSACTIONID</th>\n",
              "      <th>FLIGHTDATE</th>\n",
              "      <th>AIRLINECODE</th>\n",
              "      <th>AIRLINENAME</th>\n",
              "      <th>TAILNUM</th>\n",
              "      <th>FLIGHTNUM</th>\n",
              "      <th>ORIGINAIRPORTCODE</th>\n",
              "      <th>ORIGAIRPORTNAME</th>\n",
              "      <th>ORIGINCITYNAME</th>\n",
              "      <th>ORIGINSTATE</th>\n",
              "      <th>ORIGINSTATENAME</th>\n",
              "      <th>DESTAIRPORTCODE</th>\n",
              "      <th>DESTAIRPORTNAME</th>\n",
              "      <th>DESTCITYNAME</th>\n",
              "      <th>DESTSTATE</th>\n",
              "      <th>DESTSTATENAME</th>\n",
              "      <th>CRSDEPTIME</th>\n",
              "      <th>DEPTIME</th>\n",
              "      <th>DEPDELAY</th>\n",
              "      <th>TAXIOUT</th>\n",
              "      <th>WHEELSOFF</th>\n",
              "      <th>WHEELSON</th>\n",
              "      <th>TAXIIN</th>\n",
              "      <th>CRSARRTIME</th>\n",
              "      <th>ARRTIME</th>\n",
              "      <th>ARRDELAY</th>\n",
              "      <th>CRSELAPSEDTIME</th>\n",
              "      <th>ACTUALELAPSEDTIME</th>\n",
              "      <th>CANCELLED</th>\n",
              "      <th>DIVERTED</th>\n",
              "      <th>DISTANCE</th>\n",
              "    </tr>\n",
              "  </thead>\n",
              "  <tbody>\n",
              "    <tr>\n",
              "      <th>count</th>\n",
              "      <td>1.191805e+06</td>\n",
              "      <td>1.191805e+06</td>\n",
              "      <td>1191805</td>\n",
              "      <td>1191805</td>\n",
              "      <td>1034988</td>\n",
              "      <td>1.191805e+06</td>\n",
              "      <td>1191805</td>\n",
              "      <td>1191805</td>\n",
              "      <td>1191805</td>\n",
              "      <td>1180963</td>\n",
              "      <td>1180963</td>\n",
              "      <td>1191805</td>\n",
              "      <td>1191805</td>\n",
              "      <td>1191805</td>\n",
              "      <td>1180967</td>\n",
              "      <td>1180967</td>\n",
              "      <td>1.191805e+06</td>\n",
              "      <td>1.163470e+06</td>\n",
              "      <td>1.163470e+06</td>\n",
              "      <td>1.011833e+06</td>\n",
              "      <td>1.011791e+06</td>\n",
              "      <td>1.010225e+06</td>\n",
              "      <td>1.010320e+06</td>\n",
              "      <td>1.191805e+06</td>\n",
              "      <td>1.161439e+06</td>\n",
              "      <td>1.160545e+06</td>\n",
              "      <td>1.191383e+06</td>\n",
              "      <td>1.160545e+06</td>\n",
              "      <td>1191805</td>\n",
              "      <td>1191805</td>\n",
              "      <td>1191805</td>\n",
              "    </tr>\n",
              "    <tr>\n",
              "      <th>unique</th>\n",
              "      <td>NaN</td>\n",
              "      <td>NaN</td>\n",
              "      <td>26</td>\n",
              "      <td>26</td>\n",
              "      <td>13869</td>\n",
              "      <td>NaN</td>\n",
              "      <td>363</td>\n",
              "      <td>363</td>\n",
              "      <td>344</td>\n",
              "      <td>51</td>\n",
              "      <td>51</td>\n",
              "      <td>364</td>\n",
              "      <td>364</td>\n",
              "      <td>345</td>\n",
              "      <td>51</td>\n",
              "      <td>51</td>\n",
              "      <td>NaN</td>\n",
              "      <td>NaN</td>\n",
              "      <td>NaN</td>\n",
              "      <td>NaN</td>\n",
              "      <td>NaN</td>\n",
              "      <td>NaN</td>\n",
              "      <td>NaN</td>\n",
              "      <td>NaN</td>\n",
              "      <td>NaN</td>\n",
              "      <td>NaN</td>\n",
              "      <td>NaN</td>\n",
              "      <td>NaN</td>\n",
              "      <td>6</td>\n",
              "      <td>6</td>\n",
              "      <td>1706</td>\n",
              "    </tr>\n",
              "    <tr>\n",
              "      <th>top</th>\n",
              "      <td>NaN</td>\n",
              "      <td>NaN</td>\n",
              "      <td>WN</td>\n",
              "      <td>Southwest Airlines Co.: WN</td>\n",
              "      <td>UNKNOW</td>\n",
              "      <td>NaN</td>\n",
              "      <td>ATL</td>\n",
              "      <td>AtlantaGA: Hartsfield-Jackson Atlanta Internat...</td>\n",
              "      <td>Chicago</td>\n",
              "      <td>CA</td>\n",
              "      <td>California</td>\n",
              "      <td>ATL</td>\n",
              "      <td>AtlantaGA: Hartsfield-Jackson Atlanta Internat...</td>\n",
              "      <td>Chicago</td>\n",
              "      <td>CA</td>\n",
              "      <td>California</td>\n",
              "      <td>NaN</td>\n",
              "      <td>NaN</td>\n",
              "      <td>NaN</td>\n",
              "      <td>NaN</td>\n",
              "      <td>NaN</td>\n",
              "      <td>NaN</td>\n",
              "      <td>NaN</td>\n",
              "      <td>NaN</td>\n",
              "      <td>NaN</td>\n",
              "      <td>NaN</td>\n",
              "      <td>NaN</td>\n",
              "      <td>NaN</td>\n",
              "      <td>False</td>\n",
              "      <td>F</td>\n",
              "      <td>337 miles</td>\n",
              "    </tr>\n",
              "    <tr>\n",
              "      <th>freq</th>\n",
              "      <td>NaN</td>\n",
              "      <td>NaN</td>\n",
              "      <td>189985</td>\n",
              "      <td>189985</td>\n",
              "      <td>7640</td>\n",
              "      <td>NaN</td>\n",
              "      <td>64421</td>\n",
              "      <td>64421</td>\n",
              "      <td>76508</td>\n",
              "      <td>141852</td>\n",
              "      <td>141852</td>\n",
              "      <td>64036</td>\n",
              "      <td>64036</td>\n",
              "      <td>76986</td>\n",
              "      <td>141630</td>\n",
              "      <td>141630</td>\n",
              "      <td>NaN</td>\n",
              "      <td>NaN</td>\n",
              "      <td>NaN</td>\n",
              "      <td>NaN</td>\n",
              "      <td>NaN</td>\n",
              "      <td>NaN</td>\n",
              "      <td>NaN</td>\n",
              "      <td>NaN</td>\n",
              "      <td>NaN</td>\n",
              "      <td>NaN</td>\n",
              "      <td>NaN</td>\n",
              "      <td>NaN</td>\n",
              "      <td>637289</td>\n",
              "      <td>426572</td>\n",
              "      <td>10113</td>\n",
              "    </tr>\n",
              "    <tr>\n",
              "      <th>mean</th>\n",
              "      <td>7.068653e+07</td>\n",
              "      <td>2.003762e+07</td>\n",
              "      <td>NaN</td>\n",
              "      <td>NaN</td>\n",
              "      <td>NaN</td>\n",
              "      <td>1.641101e+03</td>\n",
              "      <td>NaN</td>\n",
              "      <td>NaN</td>\n",
              "      <td>NaN</td>\n",
              "      <td>NaN</td>\n",
              "      <td>NaN</td>\n",
              "      <td>NaN</td>\n",
              "      <td>NaN</td>\n",
              "      <td>NaN</td>\n",
              "      <td>NaN</td>\n",
              "      <td>NaN</td>\n",
              "      <td>1.326645e+03</td>\n",
              "      <td>1.341899e+03</td>\n",
              "      <td>7.286340e+00</td>\n",
              "      <td>1.533650e+01</td>\n",
              "      <td>1.363798e+03</td>\n",
              "      <td>1.486798e+03</td>\n",
              "      <td>6.462265e+00</td>\n",
              "      <td>1.490942e+03</td>\n",
              "      <td>1.493244e+03</td>\n",
              "      <td>4.836588e+00</td>\n",
              "      <td>1.266770e+02</td>\n",
              "      <td>1.244874e+02</td>\n",
              "      <td>NaN</td>\n",
              "      <td>NaN</td>\n",
              "      <td>NaN</td>\n",
              "    </tr>\n",
              "    <tr>\n",
              "      <th>std</th>\n",
              "      <td>4.677987e+07</td>\n",
              "      <td>7.540976e+04</td>\n",
              "      <td>NaN</td>\n",
              "      <td>NaN</td>\n",
              "      <td>NaN</td>\n",
              "      <td>1.588958e+03</td>\n",
              "      <td>NaN</td>\n",
              "      <td>NaN</td>\n",
              "      <td>NaN</td>\n",
              "      <td>NaN</td>\n",
              "      <td>NaN</td>\n",
              "      <td>NaN</td>\n",
              "      <td>NaN</td>\n",
              "      <td>NaN</td>\n",
              "      <td>NaN</td>\n",
              "      <td>NaN</td>\n",
              "      <td>4.776749e+02</td>\n",
              "      <td>4.755364e+02</td>\n",
              "      <td>2.974672e+01</td>\n",
              "      <td>1.038972e+01</td>\n",
              "      <td>4.781433e+02</td>\n",
              "      <td>4.962900e+02</td>\n",
              "      <td>8.397914e+00</td>\n",
              "      <td>4.958673e+02</td>\n",
              "      <td>4.970004e+02</td>\n",
              "      <td>3.182620e+01</td>\n",
              "      <td>6.991184e+01</td>\n",
              "      <td>6.982775e+01</td>\n",
              "      <td>NaN</td>\n",
              "      <td>NaN</td>\n",
              "      <td>NaN</td>\n",
              "    </tr>\n",
              "    <tr>\n",
              "      <th>min</th>\n",
              "      <td>1.000000e+02</td>\n",
              "      <td>1.992010e+07</td>\n",
              "      <td>NaN</td>\n",
              "      <td>NaN</td>\n",
              "      <td>NaN</td>\n",
              "      <td>1.000000e+00</td>\n",
              "      <td>NaN</td>\n",
              "      <td>NaN</td>\n",
              "      <td>NaN</td>\n",
              "      <td>NaN</td>\n",
              "      <td>NaN</td>\n",
              "      <td>NaN</td>\n",
              "      <td>NaN</td>\n",
              "      <td>NaN</td>\n",
              "      <td>NaN</td>\n",
              "      <td>NaN</td>\n",
              "      <td>0.000000e+00</td>\n",
              "      <td>1.000000e+00</td>\n",
              "      <td>-1.200000e+02</td>\n",
              "      <td>0.000000e+00</td>\n",
              "      <td>1.000000e+00</td>\n",
              "      <td>1.000000e+00</td>\n",
              "      <td>0.000000e+00</td>\n",
              "      <td>0.000000e+00</td>\n",
              "      <td>1.000000e+00</td>\n",
              "      <td>-9.500000e+01</td>\n",
              "      <td>1.400000e+01</td>\n",
              "      <td>6.000000e+00</td>\n",
              "      <td>NaN</td>\n",
              "      <td>NaN</td>\n",
              "      <td>NaN</td>\n",
              "    </tr>\n",
              "    <tr>\n",
              "      <th>25%</th>\n",
              "      <td>2.979520e+07</td>\n",
              "      <td>1.997090e+07</td>\n",
              "      <td>NaN</td>\n",
              "      <td>NaN</td>\n",
              "      <td>NaN</td>\n",
              "      <td>5.210000e+02</td>\n",
              "      <td>NaN</td>\n",
              "      <td>NaN</td>\n",
              "      <td>NaN</td>\n",
              "      <td>NaN</td>\n",
              "      <td>NaN</td>\n",
              "      <td>NaN</td>\n",
              "      <td>NaN</td>\n",
              "      <td>NaN</td>\n",
              "      <td>NaN</td>\n",
              "      <td>NaN</td>\n",
              "      <td>9.250000e+02</td>\n",
              "      <td>9.320000e+02</td>\n",
              "      <td>-3.000000e+00</td>\n",
              "      <td>1.000000e+01</td>\n",
              "      <td>9.470000e+02</td>\n",
              "      <td>1.112000e+03</td>\n",
              "      <td>4.000000e+00</td>\n",
              "      <td>1.115000e+03</td>\n",
              "      <td>1.116000e+03</td>\n",
              "      <td>-1.000000e+01</td>\n",
              "      <td>7.500000e+01</td>\n",
              "      <td>7.300000e+01</td>\n",
              "      <td>NaN</td>\n",
              "      <td>NaN</td>\n",
              "      <td>NaN</td>\n",
              "    </tr>\n",
              "    <tr>\n",
              "      <th>50%</th>\n",
              "      <td>5.959030e+07</td>\n",
              "      <td>2.003010e+07</td>\n",
              "      <td>NaN</td>\n",
              "      <td>NaN</td>\n",
              "      <td>NaN</td>\n",
              "      <td>1.159000e+03</td>\n",
              "      <td>NaN</td>\n",
              "      <td>NaN</td>\n",
              "      <td>NaN</td>\n",
              "      <td>NaN</td>\n",
              "      <td>NaN</td>\n",
              "      <td>NaN</td>\n",
              "      <td>NaN</td>\n",
              "      <td>NaN</td>\n",
              "      <td>NaN</td>\n",
              "      <td>NaN</td>\n",
              "      <td>1.325000e+03</td>\n",
              "      <td>1.331000e+03</td>\n",
              "      <td>0.000000e+00</td>\n",
              "      <td>1.300000e+01</td>\n",
              "      <td>1.345000e+03</td>\n",
              "      <td>1.517000e+03</td>\n",
              "      <td>5.000000e+00</td>\n",
              "      <td>1.520000e+03</td>\n",
              "      <td>1.522000e+03</td>\n",
              "      <td>-2.000000e+00</td>\n",
              "      <td>1.080000e+02</td>\n",
              "      <td>1.060000e+02</td>\n",
              "      <td>NaN</td>\n",
              "      <td>NaN</td>\n",
              "      <td>NaN</td>\n",
              "    </tr>\n",
              "    <tr>\n",
              "      <th>75%</th>\n",
              "      <td>1.180231e+08</td>\n",
              "      <td>2.011052e+07</td>\n",
              "      <td>NaN</td>\n",
              "      <td>NaN</td>\n",
              "      <td>NaN</td>\n",
              "      <td>2.039000e+03</td>\n",
              "      <td>NaN</td>\n",
              "      <td>NaN</td>\n",
              "      <td>NaN</td>\n",
              "      <td>NaN</td>\n",
              "      <td>NaN</td>\n",
              "      <td>NaN</td>\n",
              "      <td>NaN</td>\n",
              "      <td>NaN</td>\n",
              "      <td>NaN</td>\n",
              "      <td>NaN</td>\n",
              "      <td>1.725000e+03</td>\n",
              "      <td>1.732000e+03</td>\n",
              "      <td>5.000000e+00</td>\n",
              "      <td>1.800000e+01</td>\n",
              "      <td>1.748000e+03</td>\n",
              "      <td>1.910000e+03</td>\n",
              "      <td>8.000000e+00</td>\n",
              "      <td>1.911000e+03</td>\n",
              "      <td>1.915000e+03</td>\n",
              "      <td>9.000000e+00</td>\n",
              "      <td>1.580000e+02</td>\n",
              "      <td>1.560000e+02</td>\n",
              "      <td>NaN</td>\n",
              "      <td>NaN</td>\n",
              "      <td>NaN</td>\n",
              "    </tr>\n",
              "    <tr>\n",
              "      <th>max</th>\n",
              "      <td>1.478182e+08</td>\n",
              "      <td>2.016053e+07</td>\n",
              "      <td>NaN</td>\n",
              "      <td>NaN</td>\n",
              "      <td>NaN</td>\n",
              "      <td>9.899000e+03</td>\n",
              "      <td>NaN</td>\n",
              "      <td>NaN</td>\n",
              "      <td>NaN</td>\n",
              "      <td>NaN</td>\n",
              "      <td>NaN</td>\n",
              "      <td>NaN</td>\n",
              "      <td>NaN</td>\n",
              "      <td>NaN</td>\n",
              "      <td>NaN</td>\n",
              "      <td>NaN</td>\n",
              "      <td>2.400000e+03</td>\n",
              "      <td>2.400000e+03</td>\n",
              "      <td>1.477000e+03</td>\n",
              "      <td>1.439000e+03</td>\n",
              "      <td>2.400000e+03</td>\n",
              "      <td>2.400000e+03</td>\n",
              "      <td>1.439000e+03</td>\n",
              "      <td>2.400000e+03</td>\n",
              "      <td>2.400000e+03</td>\n",
              "      <td>1.473000e+03</td>\n",
              "      <td>7.050000e+02</td>\n",
              "      <td>7.000000e+02</td>\n",
              "      <td>NaN</td>\n",
              "      <td>NaN</td>\n",
              "      <td>NaN</td>\n",
              "    </tr>\n",
              "  </tbody>\n",
              "</table>\n",
              "</div>"
            ],
            "text/plain": [
              "        TRANSACTIONID    FLIGHTDATE AIRLINECODE  ... CANCELLED DIVERTED   DISTANCE\n",
              "count    1.191805e+06  1.191805e+06     1191805  ...   1191805  1191805    1191805\n",
              "unique            NaN           NaN          26  ...         6        6       1706\n",
              "top               NaN           NaN          WN  ...     False        F  337 miles\n",
              "freq              NaN           NaN      189985  ...    637289   426572      10113\n",
              "mean     7.068653e+07  2.003762e+07         NaN  ...       NaN      NaN        NaN\n",
              "std      4.677987e+07  7.540976e+04         NaN  ...       NaN      NaN        NaN\n",
              "min      1.000000e+02  1.992010e+07         NaN  ...       NaN      NaN        NaN\n",
              "25%      2.979520e+07  1.997090e+07         NaN  ...       NaN      NaN        NaN\n",
              "50%      5.959030e+07  2.003010e+07         NaN  ...       NaN      NaN        NaN\n",
              "75%      1.180231e+08  2.011052e+07         NaN  ...       NaN      NaN        NaN\n",
              "max      1.478182e+08  2.016053e+07         NaN  ...       NaN      NaN        NaN\n",
              "\n",
              "[11 rows x 31 columns]"
            ]
          },
          "metadata": {
            "tags": []
          },
          "execution_count": 10
        }
      ]
    },
    {
      "cell_type": "code",
      "metadata": {
        "colab": {
          "base_uri": "https://localhost:8080/"
        },
        "id": "xbC4PdbWZHJ7",
        "outputId": "932a6cf2-e173-4f8c-9edf-f915ffdb7849"
      },
      "source": [
        "data.shape"
      ],
      "execution_count": null,
      "outputs": [
        {
          "output_type": "execute_result",
          "data": {
            "text/plain": [
              "(1191805, 31)"
            ]
          },
          "metadata": {
            "tags": []
          },
          "execution_count": 11
        }
      ]
    },
    {
      "cell_type": "code",
      "metadata": {
        "id": "EPWVqo-ngexh",
        "colab": {
          "base_uri": "https://localhost:8080/",
          "height": 585
        },
        "outputId": "4fe80c7a-ecb1-4416-db35-913243f98a9a"
      },
      "source": [
        "data.select_dtypes(exclude='object').apply(cont_summary)"
      ],
      "execution_count": null,
      "outputs": [
        {
          "output_type": "execute_result",
          "data": {
            "text/html": [
              "<div>\n",
              "<style scoped>\n",
              "    .dataframe tbody tr th:only-of-type {\n",
              "        vertical-align: middle;\n",
              "    }\n",
              "\n",
              "    .dataframe tbody tr th {\n",
              "        vertical-align: top;\n",
              "    }\n",
              "\n",
              "    .dataframe thead th {\n",
              "        text-align: right;\n",
              "    }\n",
              "</style>\n",
              "<table border=\"1\" class=\"dataframe\">\n",
              "  <thead>\n",
              "    <tr style=\"text-align: right;\">\n",
              "      <th></th>\n",
              "      <th>TRANSACTIONID</th>\n",
              "      <th>FLIGHTDATE</th>\n",
              "      <th>FLIGHTNUM</th>\n",
              "      <th>CRSDEPTIME</th>\n",
              "      <th>DEPTIME</th>\n",
              "      <th>DEPDELAY</th>\n",
              "      <th>TAXIOUT</th>\n",
              "      <th>WHEELSOFF</th>\n",
              "      <th>WHEELSON</th>\n",
              "      <th>TAXIIN</th>\n",
              "      <th>CRSARRTIME</th>\n",
              "      <th>ARRTIME</th>\n",
              "      <th>ARRDELAY</th>\n",
              "      <th>CRSELAPSEDTIME</th>\n",
              "      <th>ACTUALELAPSEDTIME</th>\n",
              "    </tr>\n",
              "  </thead>\n",
              "  <tbody>\n",
              "    <tr>\n",
              "      <th>N</th>\n",
              "      <td>1.191805e+06</td>\n",
              "      <td>1.191805e+06</td>\n",
              "      <td>1.191805e+06</td>\n",
              "      <td>1.191805e+06</td>\n",
              "      <td>1.163470e+06</td>\n",
              "      <td>1.163470e+06</td>\n",
              "      <td>1.011833e+06</td>\n",
              "      <td>1.011791e+06</td>\n",
              "      <td>1.010225e+06</td>\n",
              "      <td>1.010320e+06</td>\n",
              "      <td>1.191805e+06</td>\n",
              "      <td>1.161439e+06</td>\n",
              "      <td>1.160545e+06</td>\n",
              "      <td>1.191383e+06</td>\n",
              "      <td>1.160545e+06</td>\n",
              "    </tr>\n",
              "    <tr>\n",
              "      <th>NMISS</th>\n",
              "      <td>0.000000e+00</td>\n",
              "      <td>0.000000e+00</td>\n",
              "      <td>0.000000e+00</td>\n",
              "      <td>0.000000e+00</td>\n",
              "      <td>2.833500e+04</td>\n",
              "      <td>2.833500e+04</td>\n",
              "      <td>1.799720e+05</td>\n",
              "      <td>1.800140e+05</td>\n",
              "      <td>1.815800e+05</td>\n",
              "      <td>1.814850e+05</td>\n",
              "      <td>0.000000e+00</td>\n",
              "      <td>3.036600e+04</td>\n",
              "      <td>3.126000e+04</td>\n",
              "      <td>4.220000e+02</td>\n",
              "      <td>3.126000e+04</td>\n",
              "    </tr>\n",
              "    <tr>\n",
              "      <th>SUM</th>\n",
              "      <td>8.424456e+13</td>\n",
              "      <td>2.388094e+13</td>\n",
              "      <td>1.955872e+09</td>\n",
              "      <td>1.581102e+09</td>\n",
              "      <td>1.561259e+09</td>\n",
              "      <td>8.477438e+06</td>\n",
              "      <td>1.551798e+07</td>\n",
              "      <td>1.379879e+09</td>\n",
              "      <td>1.502000e+09</td>\n",
              "      <td>6.528956e+06</td>\n",
              "      <td>1.776912e+09</td>\n",
              "      <td>1.734312e+09</td>\n",
              "      <td>5.613078e+06</td>\n",
              "      <td>1.509209e+08</td>\n",
              "      <td>1.444732e+08</td>\n",
              "    </tr>\n",
              "    <tr>\n",
              "      <th>MEAN</th>\n",
              "      <td>7.068653e+07</td>\n",
              "      <td>2.003762e+07</td>\n",
              "      <td>1.641101e+03</td>\n",
              "      <td>1.326645e+03</td>\n",
              "      <td>1.341899e+03</td>\n",
              "      <td>7.286340e+00</td>\n",
              "      <td>1.533650e+01</td>\n",
              "      <td>1.363798e+03</td>\n",
              "      <td>1.486798e+03</td>\n",
              "      <td>6.462265e+00</td>\n",
              "      <td>1.490942e+03</td>\n",
              "      <td>1.493244e+03</td>\n",
              "      <td>4.836588e+00</td>\n",
              "      <td>1.266770e+02</td>\n",
              "      <td>1.244874e+02</td>\n",
              "    </tr>\n",
              "    <tr>\n",
              "      <th>MEDIAN</th>\n",
              "      <td>5.959030e+07</td>\n",
              "      <td>2.003010e+07</td>\n",
              "      <td>1.159000e+03</td>\n",
              "      <td>1.325000e+03</td>\n",
              "      <td>1.331000e+03</td>\n",
              "      <td>0.000000e+00</td>\n",
              "      <td>1.300000e+01</td>\n",
              "      <td>1.345000e+03</td>\n",
              "      <td>1.517000e+03</td>\n",
              "      <td>5.000000e+00</td>\n",
              "      <td>1.520000e+03</td>\n",
              "      <td>1.522000e+03</td>\n",
              "      <td>-2.000000e+00</td>\n",
              "      <td>1.080000e+02</td>\n",
              "      <td>1.060000e+02</td>\n",
              "    </tr>\n",
              "    <tr>\n",
              "      <th>STD</th>\n",
              "      <td>4.677987e+07</td>\n",
              "      <td>7.540976e+04</td>\n",
              "      <td>1.588958e+03</td>\n",
              "      <td>4.776749e+02</td>\n",
              "      <td>4.755364e+02</td>\n",
              "      <td>2.974672e+01</td>\n",
              "      <td>1.038972e+01</td>\n",
              "      <td>4.781433e+02</td>\n",
              "      <td>4.962900e+02</td>\n",
              "      <td>8.397914e+00</td>\n",
              "      <td>4.958673e+02</td>\n",
              "      <td>4.970004e+02</td>\n",
              "      <td>3.182620e+01</td>\n",
              "      <td>6.991184e+01</td>\n",
              "      <td>6.982775e+01</td>\n",
              "    </tr>\n",
              "    <tr>\n",
              "      <th>VAR</th>\n",
              "      <td>2.188356e+15</td>\n",
              "      <td>5.686633e+09</td>\n",
              "      <td>2.524786e+06</td>\n",
              "      <td>2.281733e+05</td>\n",
              "      <td>2.261349e+05</td>\n",
              "      <td>8.848673e+02</td>\n",
              "      <td>1.079463e+02</td>\n",
              "      <td>2.286211e+05</td>\n",
              "      <td>2.463037e+05</td>\n",
              "      <td>7.052496e+01</td>\n",
              "      <td>2.458844e+05</td>\n",
              "      <td>2.470094e+05</td>\n",
              "      <td>1.012907e+03</td>\n",
              "      <td>4.887666e+03</td>\n",
              "      <td>4.875915e+03</td>\n",
              "    </tr>\n",
              "    <tr>\n",
              "      <th>MIN</th>\n",
              "      <td>1.000000e+02</td>\n",
              "      <td>1.992010e+07</td>\n",
              "      <td>1.000000e+00</td>\n",
              "      <td>0.000000e+00</td>\n",
              "      <td>1.000000e+00</td>\n",
              "      <td>-1.200000e+02</td>\n",
              "      <td>0.000000e+00</td>\n",
              "      <td>1.000000e+00</td>\n",
              "      <td>1.000000e+00</td>\n",
              "      <td>0.000000e+00</td>\n",
              "      <td>0.000000e+00</td>\n",
              "      <td>1.000000e+00</td>\n",
              "      <td>-9.500000e+01</td>\n",
              "      <td>1.400000e+01</td>\n",
              "      <td>6.000000e+00</td>\n",
              "    </tr>\n",
              "    <tr>\n",
              "      <th>P1</th>\n",
              "      <td>1.191904e+06</td>\n",
              "      <td>1.992012e+07</td>\n",
              "      <td>2.200000e+01</td>\n",
              "      <td>1.450000e+02</td>\n",
              "      <td>5.440000e+02</td>\n",
              "      <td>-1.100000e+01</td>\n",
              "      <td>5.000000e+00</td>\n",
              "      <td>5.480000e+02</td>\n",
              "      <td>5.400000e+01</td>\n",
              "      <td>2.000000e+00</td>\n",
              "      <td>1.800000e+01</td>\n",
              "      <td>4.700000e+01</td>\n",
              "      <td>-3.100000e+01</td>\n",
              "      <td>3.900000e+01</td>\n",
              "      <td>3.600000e+01</td>\n",
              "    </tr>\n",
              "    <tr>\n",
              "      <th>P5</th>\n",
              "      <td>5.959120e+06</td>\n",
              "      <td>1.993012e+07</td>\n",
              "      <td>1.140000e+02</td>\n",
              "      <td>6.300000e+02</td>\n",
              "      <td>6.320000e+02</td>\n",
              "      <td>-8.000000e+00</td>\n",
              "      <td>6.000000e+00</td>\n",
              "      <td>6.420000e+02</td>\n",
              "      <td>7.300000e+02</td>\n",
              "      <td>2.000000e+00</td>\n",
              "      <td>7.400000e+02</td>\n",
              "      <td>7.360000e+02</td>\n",
              "      <td>-2.100000e+01</td>\n",
              "      <td>5.100000e+01</td>\n",
              "      <td>4.900000e+01</td>\n",
              "    </tr>\n",
              "    <tr>\n",
              "      <th>P10</th>\n",
              "      <td>1.191814e+07</td>\n",
              "      <td>1.994050e+07</td>\n",
              "      <td>2.270000e+02</td>\n",
              "      <td>7.090000e+02</td>\n",
              "      <td>7.140000e+02</td>\n",
              "      <td>-6.000000e+00</td>\n",
              "      <td>8.000000e+00</td>\n",
              "      <td>7.260000e+02</td>\n",
              "      <td>8.370000e+02</td>\n",
              "      <td>3.000000e+00</td>\n",
              "      <td>8.440000e+02</td>\n",
              "      <td>8.420000e+02</td>\n",
              "      <td>-1.700000e+01</td>\n",
              "      <td>6.000000e+01</td>\n",
              "      <td>5.600000e+01</td>\n",
              "    </tr>\n",
              "    <tr>\n",
              "      <th>P25</th>\n",
              "      <td>2.979520e+07</td>\n",
              "      <td>1.997090e+07</td>\n",
              "      <td>5.210000e+02</td>\n",
              "      <td>9.250000e+02</td>\n",
              "      <td>9.320000e+02</td>\n",
              "      <td>-3.000000e+00</td>\n",
              "      <td>1.000000e+01</td>\n",
              "      <td>9.470000e+02</td>\n",
              "      <td>1.112000e+03</td>\n",
              "      <td>4.000000e+00</td>\n",
              "      <td>1.115000e+03</td>\n",
              "      <td>1.116000e+03</td>\n",
              "      <td>-1.000000e+01</td>\n",
              "      <td>7.500000e+01</td>\n",
              "      <td>7.300000e+01</td>\n",
              "    </tr>\n",
              "    <tr>\n",
              "      <th>P50</th>\n",
              "      <td>5.959030e+07</td>\n",
              "      <td>2.003010e+07</td>\n",
              "      <td>1.159000e+03</td>\n",
              "      <td>1.325000e+03</td>\n",
              "      <td>1.331000e+03</td>\n",
              "      <td>0.000000e+00</td>\n",
              "      <td>1.300000e+01</td>\n",
              "      <td>1.345000e+03</td>\n",
              "      <td>1.517000e+03</td>\n",
              "      <td>5.000000e+00</td>\n",
              "      <td>1.520000e+03</td>\n",
              "      <td>1.522000e+03</td>\n",
              "      <td>-2.000000e+00</td>\n",
              "      <td>1.080000e+02</td>\n",
              "      <td>1.060000e+02</td>\n",
              "    </tr>\n",
              "    <tr>\n",
              "      <th>P75</th>\n",
              "      <td>1.180231e+08</td>\n",
              "      <td>2.011052e+07</td>\n",
              "      <td>2.039000e+03</td>\n",
              "      <td>1.725000e+03</td>\n",
              "      <td>1.732000e+03</td>\n",
              "      <td>5.000000e+00</td>\n",
              "      <td>1.800000e+01</td>\n",
              "      <td>1.748000e+03</td>\n",
              "      <td>1.910000e+03</td>\n",
              "      <td>8.000000e+00</td>\n",
              "      <td>1.911000e+03</td>\n",
              "      <td>1.915000e+03</td>\n",
              "      <td>9.000000e+00</td>\n",
              "      <td>1.580000e+02</td>\n",
              "      <td>1.560000e+02</td>\n",
              "    </tr>\n",
              "    <tr>\n",
              "      <th>P90</th>\n",
              "      <td>1.359002e+08</td>\n",
              "      <td>2.014052e+07</td>\n",
              "      <td>4.205000e+03</td>\n",
              "      <td>1.955000e+03</td>\n",
              "      <td>2.004000e+03</td>\n",
              "      <td>2.500000e+01</td>\n",
              "      <td>2.500000e+01</td>\n",
              "      <td>2.019000e+03</td>\n",
              "      <td>2.134000e+03</td>\n",
              "      <td>1.100000e+01</td>\n",
              "      <td>2.132000e+03</td>\n",
              "      <td>2.137000e+03</td>\n",
              "      <td>2.900000e+01</td>\n",
              "      <td>2.250000e+02</td>\n",
              "      <td>2.220000e+02</td>\n",
              "    </tr>\n",
              "    <tr>\n",
              "      <th>P95</th>\n",
              "      <td>1.418592e+08</td>\n",
              "      <td>2.015052e+07</td>\n",
              "      <td>5.359000e+03</td>\n",
              "      <td>2.100000e+03</td>\n",
              "      <td>2.112000e+03</td>\n",
              "      <td>5.100000e+01</td>\n",
              "      <td>3.100000e+01</td>\n",
              "      <td>2.126000e+03</td>\n",
              "      <td>2.232000e+03</td>\n",
              "      <td>1.400000e+01</td>\n",
              "      <td>2.230000e+03</td>\n",
              "      <td>2.234000e+03</td>\n",
              "      <td>5.500000e+01</td>\n",
              "      <td>2.730000e+02</td>\n",
              "      <td>2.710000e+02</td>\n",
              "    </tr>\n",
              "    <tr>\n",
              "      <th>P99</th>\n",
              "      <td>1.466264e+08</td>\n",
              "      <td>2.016051e+07</td>\n",
              "      <td>6.733000e+03</td>\n",
              "      <td>2.235000e+03</td>\n",
              "      <td>2.247000e+03</td>\n",
              "      <td>1.330000e+02</td>\n",
              "      <td>5.100000e+01</td>\n",
              "      <td>2.256000e+03</td>\n",
              "      <td>2.336000e+03</td>\n",
              "      <td>2.500000e+01</td>\n",
              "      <td>2.336000e+03</td>\n",
              "      <td>2.337000e+03</td>\n",
              "      <td>1.370000e+02</td>\n",
              "      <td>3.550000e+02</td>\n",
              "      <td>3.500000e+02</td>\n",
              "    </tr>\n",
              "    <tr>\n",
              "      <th>MAX</th>\n",
              "      <td>1.478182e+08</td>\n",
              "      <td>2.016053e+07</td>\n",
              "      <td>9.899000e+03</td>\n",
              "      <td>2.400000e+03</td>\n",
              "      <td>2.400000e+03</td>\n",
              "      <td>1.477000e+03</td>\n",
              "      <td>1.439000e+03</td>\n",
              "      <td>2.400000e+03</td>\n",
              "      <td>2.400000e+03</td>\n",
              "      <td>1.439000e+03</td>\n",
              "      <td>2.400000e+03</td>\n",
              "      <td>2.400000e+03</td>\n",
              "      <td>1.473000e+03</td>\n",
              "      <td>7.050000e+02</td>\n",
              "      <td>7.000000e+02</td>\n",
              "    </tr>\n",
              "  </tbody>\n",
              "</table>\n",
              "</div>"
            ],
            "text/plain": [
              "        TRANSACTIONID    FLIGHTDATE  ...  CRSELAPSEDTIME  ACTUALELAPSEDTIME\n",
              "N        1.191805e+06  1.191805e+06  ...    1.191383e+06       1.160545e+06\n",
              "NMISS    0.000000e+00  0.000000e+00  ...    4.220000e+02       3.126000e+04\n",
              "SUM      8.424456e+13  2.388094e+13  ...    1.509209e+08       1.444732e+08\n",
              "MEAN     7.068653e+07  2.003762e+07  ...    1.266770e+02       1.244874e+02\n",
              "MEDIAN   5.959030e+07  2.003010e+07  ...    1.080000e+02       1.060000e+02\n",
              "STD      4.677987e+07  7.540976e+04  ...    6.991184e+01       6.982775e+01\n",
              "VAR      2.188356e+15  5.686633e+09  ...    4.887666e+03       4.875915e+03\n",
              "MIN      1.000000e+02  1.992010e+07  ...    1.400000e+01       6.000000e+00\n",
              "P1       1.191904e+06  1.992012e+07  ...    3.900000e+01       3.600000e+01\n",
              "P5       5.959120e+06  1.993012e+07  ...    5.100000e+01       4.900000e+01\n",
              "P10      1.191814e+07  1.994050e+07  ...    6.000000e+01       5.600000e+01\n",
              "P25      2.979520e+07  1.997090e+07  ...    7.500000e+01       7.300000e+01\n",
              "P50      5.959030e+07  2.003010e+07  ...    1.080000e+02       1.060000e+02\n",
              "P75      1.180231e+08  2.011052e+07  ...    1.580000e+02       1.560000e+02\n",
              "P90      1.359002e+08  2.014052e+07  ...    2.250000e+02       2.220000e+02\n",
              "P95      1.418592e+08  2.015052e+07  ...    2.730000e+02       2.710000e+02\n",
              "P99      1.466264e+08  2.016051e+07  ...    3.550000e+02       3.500000e+02\n",
              "MAX      1.478182e+08  2.016053e+07  ...    7.050000e+02       7.000000e+02\n",
              "\n",
              "[18 rows x 15 columns]"
            ]
          },
          "metadata": {
            "tags": []
          },
          "execution_count": 12
        }
      ]
    },
    {
      "cell_type": "code",
      "metadata": {
        "id": "_2MJONXEhdCl",
        "colab": {
          "base_uri": "https://localhost:8080/",
          "height": 243
        },
        "outputId": "3cb76fb7-3c9a-4daf-a047-c5dc45b8ace4"
      },
      "source": [
        "data.select_dtypes(include='object').apply(cat_summary)"
      ],
      "execution_count": null,
      "outputs": [
        {
          "output_type": "execute_result",
          "data": {
            "text/html": [
              "<div>\n",
              "<style scoped>\n",
              "    .dataframe tbody tr th:only-of-type {\n",
              "        vertical-align: middle;\n",
              "    }\n",
              "\n",
              "    .dataframe tbody tr th {\n",
              "        vertical-align: top;\n",
              "    }\n",
              "\n",
              "    .dataframe thead th {\n",
              "        text-align: right;\n",
              "    }\n",
              "</style>\n",
              "<table border=\"1\" class=\"dataframe\">\n",
              "  <thead>\n",
              "    <tr style=\"text-align: right;\">\n",
              "      <th></th>\n",
              "      <th>AIRLINECODE</th>\n",
              "      <th>AIRLINENAME</th>\n",
              "      <th>TAILNUM</th>\n",
              "      <th>ORIGINAIRPORTCODE</th>\n",
              "      <th>ORIGAIRPORTNAME</th>\n",
              "      <th>ORIGINCITYNAME</th>\n",
              "      <th>ORIGINSTATE</th>\n",
              "      <th>ORIGINSTATENAME</th>\n",
              "      <th>DESTAIRPORTCODE</th>\n",
              "      <th>DESTAIRPORTNAME</th>\n",
              "      <th>DESTCITYNAME</th>\n",
              "      <th>DESTSTATE</th>\n",
              "      <th>DESTSTATENAME</th>\n",
              "      <th>CANCELLED</th>\n",
              "      <th>DIVERTED</th>\n",
              "      <th>DISTANCE</th>\n",
              "    </tr>\n",
              "  </thead>\n",
              "  <tbody>\n",
              "    <tr>\n",
              "      <th>N</th>\n",
              "      <td>1191805</td>\n",
              "      <td>1191805</td>\n",
              "      <td>1034988</td>\n",
              "      <td>1191805</td>\n",
              "      <td>1191805</td>\n",
              "      <td>1191805</td>\n",
              "      <td>1180963</td>\n",
              "      <td>1180963</td>\n",
              "      <td>1191805</td>\n",
              "      <td>1191805</td>\n",
              "      <td>1191805</td>\n",
              "      <td>1180967</td>\n",
              "      <td>1180967</td>\n",
              "      <td>1191805</td>\n",
              "      <td>1191805</td>\n",
              "      <td>1191805</td>\n",
              "    </tr>\n",
              "    <tr>\n",
              "      <th>NMISS</th>\n",
              "      <td>0</td>\n",
              "      <td>0</td>\n",
              "      <td>156817</td>\n",
              "      <td>0</td>\n",
              "      <td>0</td>\n",
              "      <td>0</td>\n",
              "      <td>10842</td>\n",
              "      <td>10842</td>\n",
              "      <td>0</td>\n",
              "      <td>0</td>\n",
              "      <td>0</td>\n",
              "      <td>10838</td>\n",
              "      <td>10838</td>\n",
              "      <td>0</td>\n",
              "      <td>0</td>\n",
              "      <td>0</td>\n",
              "    </tr>\n",
              "    <tr>\n",
              "      <th>MODE</th>\n",
              "      <td>WN</td>\n",
              "      <td>Southwest Airlines Co.: WN</td>\n",
              "      <td>UNKNOW</td>\n",
              "      <td>ATL</td>\n",
              "      <td>AtlantaGA: Hartsfield-Jackson Atlanta Internat...</td>\n",
              "      <td>Chicago</td>\n",
              "      <td>CA</td>\n",
              "      <td>California</td>\n",
              "      <td>ATL</td>\n",
              "      <td>AtlantaGA: Hartsfield-Jackson Atlanta Internat...</td>\n",
              "      <td>Chicago</td>\n",
              "      <td>CA</td>\n",
              "      <td>California</td>\n",
              "      <td>False</td>\n",
              "      <td>F</td>\n",
              "      <td>337 miles</td>\n",
              "    </tr>\n",
              "    <tr>\n",
              "      <th>FREQ</th>\n",
              "      <td>189985</td>\n",
              "      <td>189985</td>\n",
              "      <td>7640</td>\n",
              "      <td>64421</td>\n",
              "      <td>64421</td>\n",
              "      <td>76508</td>\n",
              "      <td>141852</td>\n",
              "      <td>141852</td>\n",
              "      <td>64036</td>\n",
              "      <td>64036</td>\n",
              "      <td>76986</td>\n",
              "      <td>141630</td>\n",
              "      <td>141630</td>\n",
              "      <td>637289</td>\n",
              "      <td>426572</td>\n",
              "      <td>10113</td>\n",
              "    </tr>\n",
              "    <tr>\n",
              "      <th>PERCENT</th>\n",
              "      <td>15.94</td>\n",
              "      <td>15.94</td>\n",
              "      <td>0.74</td>\n",
              "      <td>5.41</td>\n",
              "      <td>5.41</td>\n",
              "      <td>6.42</td>\n",
              "      <td>12.01</td>\n",
              "      <td>12.01</td>\n",
              "      <td>5.37</td>\n",
              "      <td>5.37</td>\n",
              "      <td>6.46</td>\n",
              "      <td>11.99</td>\n",
              "      <td>11.99</td>\n",
              "      <td>53.47</td>\n",
              "      <td>35.79</td>\n",
              "      <td>0.85</td>\n",
              "    </tr>\n",
              "  </tbody>\n",
              "</table>\n",
              "</div>"
            ],
            "text/plain": [
              "        AIRLINECODE                 AIRLINENAME  ... DIVERTED   DISTANCE\n",
              "N           1191805                     1191805  ...  1191805    1191805\n",
              "NMISS             0                           0  ...        0          0\n",
              "MODE             WN  Southwest Airlines Co.: WN  ...        F  337 miles\n",
              "FREQ         189985                      189985  ...   426572      10113\n",
              "PERCENT       15.94                       15.94  ...    35.79       0.85\n",
              "\n",
              "[5 rows x 16 columns]"
            ]
          },
          "metadata": {
            "tags": []
          },
          "execution_count": 13
        }
      ]
    },
    {
      "cell_type": "markdown",
      "metadata": {
        "id": "ji_40YGHi24A"
      },
      "source": [
        "## Data Cleaning & Preprocessing"
      ]
    },
    {
      "cell_type": "code",
      "metadata": {
        "id": "KJHR3iYzikbN"
      },
      "source": [
        "data['DIVERTED'] = data.DIVERTED.map({'False': 0, 'F': 0, '0': 0, 0: 0, 'True': 1, 'T': 1, '1': 1, 1: 1})\n",
        "data['CANCELLED'] = data.CANCELLED.map({'False': 0, 'F': 0, '0': 0, 0: 0, 'True': 1, 'T': 1, '1': 1, 1: 1})"
      ],
      "execution_count": null,
      "outputs": []
    },
    {
      "cell_type": "code",
      "metadata": {
        "id": "ygB8uuf4mXdQ"
      },
      "source": [
        "# Converting 'FLIGTHDATE' column to datetime\n",
        "data['FLIGHTDATE'] = data.FLIGHTDATE.apply(lambda x: datetime.strptime(str(x), '%Y%m%d'))\n",
        "\n",
        "# Seperating year, month and day into different columns\n",
        "data['FLIGHTDATE_YEAR'] = data.FLIGHTDATE.dt.year\n",
        "data['FLIGHTDATE_MONTH'] = data.FLIGHTDATE.dt.month\n",
        "data['FLIGHTDATE_DAY'] = data.FLIGHTDATE.dt.day"
      ],
      "execution_count": null,
      "outputs": []
    },
    {
      "cell_type": "code",
      "metadata": {
        "id": "16eRjUv1q79t"
      },
      "source": [
        "data['DISTANCE'] = data.DISTANCE.apply(lambda x: int(x.rstrip(' miles')))"
      ],
      "execution_count": null,
      "outputs": []
    },
    {
      "cell_type": "code",
      "metadata": {
        "id": "dQfemJI5RXin"
      },
      "source": [
        "# Copy data for visualization sorted by 'FLIGHTDATE' in ascending order\n",
        "data_vis = data.sort_values(by='FLIGHTDATE').reset_index(drop=True)\n",
        "\n",
        "# Copy data for cleaning & preprocessing without the 'FLIGHTDATE' column\n",
        "df = data.drop('FLIGHTDATE', axis=1)"
      ],
      "execution_count": null,
      "outputs": []
    },
    {
      "cell_type": "code",
      "metadata": {
        "id": "p6z9Hh8LXwN3"
      },
      "source": [
        "# Seperating the target and feature columns\n",
        "X = df.drop('CANCELLED', axis=1)\n",
        "y = df.CANCELLED"
      ],
      "execution_count": null,
      "outputs": []
    },
    {
      "cell_type": "code",
      "metadata": {
        "id": "8QNATwPHqjQr"
      },
      "source": [
        "# Seperating numerical and categorical variables\n",
        "X_num = X.select_dtypes(include=['int64', 'float64'])\n",
        "X_cat = X.select_dtypes(include=['object', 'bool'])"
      ],
      "execution_count": null,
      "outputs": []
    },
    {
      "cell_type": "code",
      "metadata": {
        "id": "8AYMsMXqqH4W"
      },
      "source": [
        "# Missing imputation with mean for numerical columns\n",
        "X_num = X_num.apply(lambda x: x.fillna(x.mean()))\n",
        "\n",
        "# Dropping the categorical columns with missing values\n",
        "X_cat.drop(X_cat.columns[X_cat.isna().any()].tolist(), axis=1, inplace=True)"
      ],
      "execution_count": null,
      "outputs": []
    },
    {
      "cell_type": "code",
      "metadata": {
        "id": "xBMNMH3g0uAD"
      },
      "source": [
        "# Label encoding the categorical columns\n",
        "le = LabelEncoder()\n",
        "X_cat_enc = X_cat.apply(lambda x: pd.Series(le.fit_transform(x), name=x.name))"
      ],
      "execution_count": null,
      "outputs": []
    },
    {
      "cell_type": "code",
      "metadata": {
        "id": "Qcf0DcPyYTCo"
      },
      "source": [
        "# Consolidating cleaned data\n",
        "X_cleaned = pd.concat([X_num, X_cat_enc], axis=1)"
      ],
      "execution_count": null,
      "outputs": []
    },
    {
      "cell_type": "code",
      "metadata": {
        "id": "XR0Fks-_dpuv"
      },
      "source": [
        "# Train-Test Split\n",
        "train_x_60, test_x_40, train_y_60, test_y_40 = train_test_split(X_cleaned, y, test_size=0.4, random_state=63)\n",
        "train_x_70, test_x_30, train_y_70, test_y_30 = train_test_split(X_cleaned, y, test_size=0.3, random_state=36)"
      ],
      "execution_count": null,
      "outputs": []
    },
    {
      "cell_type": "markdown",
      "metadata": {
        "id": "lzzr7RUK60Ba"
      },
      "source": [
        "## EDA"
      ]
    },
    {
      "cell_type": "code",
      "metadata": {
        "id": "j00d7IfI9E8w",
        "colab": {
          "base_uri": "https://localhost:8080/",
          "height": 508
        },
        "outputId": "b3fc08ba-993e-4c98-f13b-dd43d8c97434"
      },
      "source": [
        "cancelled_dates = data_vis.groupby('FLIGHTDATE')['CANCELLED'].sum().reset_index()\n",
        "\n",
        "plt.figure(figsize=(13,5), dpi=105)\n",
        "plt.title('Year vs. Flight Cancellation')\n",
        "sns.lineplot(x=cancelled_dates.FLIGHTDATE, y=cancelled_dates.CANCELLED)\n",
        "plt.show()\n",
        "\n",
        "# Massive spike in flight cancellations for the year 2002 and almost no cancellations between 2005 - 2009"
      ],
      "execution_count": null,
      "outputs": [
        {
          "output_type": "display_data",
          "data": {
            "image/png": "[encoded data removed]",
            "text/plain": [
              "<Figure size 1365x525 with 1 Axes>"
            ]
          },
          "metadata": {
            "tags": [],
            "needs_background": "light"
          }
        }
      ]
    },
    {
      "cell_type": "code",
      "metadata": {
        "id": "xX2yL0xV_cBs",
        "colab": {
          "base_uri": "https://localhost:8080/",
          "height": 508
        },
        "outputId": "4497a666-14ce-4d21-98ce-84f503b7ca5a"
      },
      "source": [
        "diverted_dates = data_vis.groupby('FLIGHTDATE')['DIVERTED'].sum().reset_index()\n",
        "\n",
        "plt.figure(figsize=(13,5), dpi=105)\n",
        "plt.title('Year vs. Diverted Flights')\n",
        "sns.lineplot(x=diverted_dates.FLIGHTDATE, y=diverted_dates.DIVERTED)\n",
        "plt.show()\n",
        "\n",
        "# Massive spikes in diverted flights for years 1996, 2002 & 2010. Almost constant between 2005 - 2009."
      ],
      "execution_count": null,
      "outputs": [
        {
          "output_type": "display_data",
          "data": {
            "image/png": "[encoded data removed]",
            "text/plain": [
              "<Figure size 1365x525 with 1 Axes>"
            ]
          },
          "metadata": {
            "tags": [],
            "needs_background": "light"
          }
        }
      ]
    },
    {
      "cell_type": "code",
      "metadata": {
        "id": "o-2hoi9K9E5L",
        "colab": {
          "base_uri": "https://localhost:8080/",
          "height": 650
        },
        "outputId": "1c155495-ac47-4a4b-82f8-b257fca3174a"
      },
      "source": [
        "cancelled_airlines = data_vis.groupby('AIRLINENAME')['CANCELLED'].sum().reset_index()\n",
        "\n",
        "plt.figure(figsize=(13,8), dpi=105)\n",
        "plt.title('Airlines vs. Flight Cancellation')\n",
        "sns.barplot(x=cancelled_airlines.CANCELLED, y=cancelled_airlines.AIRLINENAME)\n",
        "plt.show()\n",
        "\n",
        "# American Airlines, US Airways, United Air Lines & Delta Air Lines have the highest flight cancellations\n",
        "# Hawaiian Airlines, Virgin America & ATA Airlines have the lowest cancellations."
      ],
      "execution_count": null,
      "outputs": [
        {
          "output_type": "display_data",
          "data": {
            "image/png": "[encoded data removed]",
            "text/plain": [
              "<Figure size 1365x840 with 1 Axes>"
            ]
          },
          "metadata": {
            "tags": [],
            "needs_background": "light"
          }
        }
      ]
    },
    {
      "cell_type": "code",
      "metadata": {
        "id": "uW2p8E8_9E28",
        "colab": {
          "base_uri": "https://localhost:8080/",
          "height": 650
        },
        "outputId": "85d643a2-3cfa-46f1-a09b-76587890adaa"
      },
      "source": [
        "diverted_airlines = data_vis.groupby('AIRLINENAME')['DIVERTED'].sum().reset_index()\n",
        "\n",
        "plt.figure(figsize=(13,8), dpi=105)\n",
        "plt.title('Airlines vs. Diverted Flights')\n",
        "sns.barplot(x=diverted_airlines.DIVERTED, y=diverted_airlines.AIRLINENAME)\n",
        "plt.show()\n",
        "\n",
        "# American Airlines, Southwest Airlines & Delta Airlines have the highest flights diversions.\n",
        "# ATA Airlines, Aloha Airlines & Virgin America have the lowest diversions."
      ],
      "execution_count": null,
      "outputs": [
        {
          "output_type": "display_data",
          "data": {
            "image/png": "[encoded data removed]",
            "text/plain": [
              "<Figure size 1365x840 with 1 Axes>"
            ]
          },
          "metadata": {
            "tags": [],
            "needs_background": "light"
          }
        }
      ]
    },
    {
      "cell_type": "code",
      "metadata": {
        "id": "vq0Q2d_Z9E0v",
        "colab": {
          "base_uri": "https://localhost:8080/",
          "height": 588
        },
        "outputId": "6b9fa781-dcdd-4da3-be81-31e036fb2128"
      },
      "source": [
        "cancelled_city = data_vis.groupby('ORIGINCITYNAME')['CANCELLED'].sum().reset_index()\n",
        "cancelled_city_filtered = cancelled_city[cancelled_city.CANCELLED > 500]\n",
        "\n",
        "plt.figure(figsize=(13,6), dpi=105)\n",
        "plt.title('Cities vs. Flight Cancellation (> 500)')\n",
        "sns.barplot(x=cancelled_city_filtered.CANCELLED, y=cancelled_city_filtered.ORIGINCITYNAME)\n",
        "plt.show()\n",
        "\n",
        "# Chicago is the city with by far the highest flight cancellations.\n",
        "# Denver is the lowest."
      ],
      "execution_count": null,
      "outputs": [
        {
          "output_type": "display_data",
          "data": {
            "image/png": "[encoded data removed]",
            "text/plain": [
              "<Figure size 1365x630 with 1 Axes>"
            ]
          },
          "metadata": {
            "tags": [],
            "needs_background": "light"
          }
        }
      ]
    },
    {
      "cell_type": "code",
      "metadata": {
        "id": "8pWfWsHh9Ev5",
        "colab": {
          "base_uri": "https://localhost:8080/",
          "height": 588
        },
        "outputId": "a245a376-8598-4797-f49d-6573eeec8206"
      },
      "source": [
        "diverted_city = data_vis.groupby('ORIGINCITYNAME')['DIVERTED'].sum().reset_index()\n",
        "diverted_city_filtered = diverted_city[diverted_city.DIVERTED > 50]\n",
        "\n",
        "plt.figure(figsize=(13,6), dpi=105)\n",
        "plt.title('Cities vs. Diverted Flights (> 50)')\n",
        "sns.barplot(x=diverted_city_filtered.DIVERTED, y=diverted_city_filtered.ORIGINCITYNAME)\n",
        "plt.show()\n",
        "\n",
        "# Chicago, Atlanta & Dallas are the cities with by far the highest flight diversions.\n",
        "# Salt Lake City is the lowest."
      ],
      "execution_count": null,
      "outputs": [
        {
          "output_type": "display_data",
          "data": {
            "image/png": "[encoded data removed]",
            "text/plain": [
              "<Figure size 1365x630 with 1 Axes>"
            ]
          },
          "metadata": {
            "tags": [],
            "needs_background": "light"
          }
        }
      ]
    },
    {
      "cell_type": "code",
      "metadata": {
        "id": "3LJEpQR8RhrN",
        "colab": {
          "base_uri": "https://localhost:8080/",
          "height": 588
        },
        "outputId": "a77f2ee3-df37-4872-803f-0fcbda20cb12"
      },
      "source": [
        "cancelled_state = data_vis.groupby('ORIGINSTATENAME')['CANCELLED'].sum().reset_index()\n",
        "cancelled_state_filtered = cancelled_state[cancelled_state.CANCELLED > 1000]\n",
        "\n",
        "plt.figure(figsize=(13,6), dpi=105)\n",
        "plt.title('States vs. Flights Cancellation (> 1000)')\n",
        "sns.barplot(x=cancelled_state_filtered.CANCELLED, y=cancelled_state_filtered.ORIGINSTATENAME)\n",
        "plt.show()\n",
        "\n",
        "# California is the state with the highest flight cancellations.\n",
        "# North Carolina is the lowest."
      ],
      "execution_count": null,
      "outputs": [
        {
          "output_type": "display_data",
          "data": {
            "image/png": "[encoded data removed]",
            "text/plain": [
              "<Figure size 1365x630 with 1 Axes>"
            ]
          },
          "metadata": {
            "tags": [],
            "needs_background": "light"
          }
        }
      ]
    },
    {
      "cell_type": "code",
      "metadata": {
        "id": "93tOUCnXRhrY",
        "colab": {
          "base_uri": "https://localhost:8080/",
          "height": 588
        },
        "outputId": "913d1224-9857-4549-bd19-05839cf85a3e"
      },
      "source": [
        "diverted_state = data_vis.groupby('ORIGINSTATENAME')['DIVERTED'].sum().reset_index()\n",
        "diverted_state_filtered = diverted_state[diverted_state.DIVERTED > 50]\n",
        "\n",
        "plt.figure(figsize=(13,6), dpi=105)\n",
        "plt.title('States vs. Flights Cancellation (> 50)')\n",
        "sns.barplot(x=diverted_state_filtered.DIVERTED, y=diverted_state_filtered.ORIGINSTATENAME)\n",
        "plt.show()\n",
        "\n",
        "# Texas is the state with by far the highest flight diversions. California & Florida are the other two.\n",
        "# North Carolina is the lowest."
      ],
      "execution_count": null,
      "outputs": [
        {
          "output_type": "display_data",
          "data": {
            "image/png": "[encoded data removed]",
            "text/plain": [
              "<Figure size 1365x630 with 1 Axes>"
            ]
          },
          "metadata": {
            "tags": [],
            "needs_background": "light"
          }
        }
      ]
    },
    {
      "cell_type": "markdown",
      "metadata": {
        "id": "ksMlosHUd8dY"
      },
      "source": [
        "## Modelling"
      ]
    },
    {
      "cell_type": "markdown",
      "metadata": {
        "id": "oEtI-jpFVZAo"
      },
      "source": [
        "#### 60:40 Split"
      ]
    },
    {
      "cell_type": "markdown",
      "metadata": {
        "id": "1CYLw7AXwtQm"
      },
      "source": [
        "##### Logistic Regression Model"
      ]
    },
    {
      "cell_type": "code",
      "metadata": {
        "id": "JegBf8kFqVSQ",
        "colab": {
          "base_uri": "https://localhost:8080/"
        },
        "outputId": "f204d601-9762-434c-dfc6-69f931ab35a2"
      },
      "source": [
        "logreg = LogisticRegression(random_state=27)\n",
        "logreg.fit(train_x_60, train_y_60)"
      ],
      "execution_count": null,
      "outputs": [
        {
          "output_type": "execute_result",
          "data": {
            "text/plain": [
              "LogisticRegression(C=1.0, class_weight=None, dual=False, fit_intercept=True,\n",
              "                   intercept_scaling=1, l1_ratio=None, max_iter=100,\n",
              "                   multi_class='auto', n_jobs=None, penalty='l2',\n",
              "                   random_state=27, solver='lbfgs', tol=0.0001, verbose=0,\n",
              "                   warm_start=False)"
            ]
          },
          "metadata": {
            "tags": []
          },
          "execution_count": 32
        }
      ]
    },
    {
      "cell_type": "code",
      "metadata": {
        "id": "AcRDVcvdqVSS"
      },
      "source": [
        "start_time = time.time()\n",
        "y_hat = logreg.predict(test_x_40)\n",
        "end_time_logreg = round(time.time() - start_time, 4)"
      ],
      "execution_count": null,
      "outputs": []
    },
    {
      "cell_type": "code",
      "metadata": {
        "id": "u-QX61YEqVST",
        "colab": {
          "base_uri": "https://localhost:8080/"
        },
        "outputId": "053c78c1-a379-4c68-9b92-95a8e9964e86"
      },
      "source": [
        "print(classification_report(test_y_40, y_hat))"
      ],
      "execution_count": null,
      "outputs": [
        {
          "output_type": "stream",
          "text": [
            "              precision    recall  f1-score   support\n",
            "\n",
            "           0       0.98      1.00      0.99    465286\n",
            "           1       0.00      0.00      0.00     11436\n",
            "\n",
            "    accuracy                           0.98    476722\n",
            "   macro avg       0.49      0.50      0.49    476722\n",
            "weighted avg       0.95      0.98      0.96    476722\n",
            "\n"
          ],
          "name": "stdout"
        }
      ]
    },
    {
      "cell_type": "code",
      "metadata": {
        "id": "CowquN-1qVSV",
        "colab": {
          "base_uri": "https://localhost:8080/"
        },
        "outputId": "ccb50641-7099-4699-c948-4a4d5ac82721"
      },
      "source": [
        "print('Train Accuracy:', accuracy_score(train_y_60, logreg.predict(train_x_60)).round(4) * 100)\n",
        "print('Test Accuracy:', accuracy_score(test_y_40, y_hat).round(4) * 100)"
      ],
      "execution_count": null,
      "outputs": [
        {
          "output_type": "stream",
          "text": [
            "Train Accuracy: 97.6\n",
            "Test Accuracy: 97.6\n"
          ],
          "name": "stdout"
        }
      ]
    },
    {
      "cell_type": "code",
      "metadata": {
        "id": "J5sazkmbqVSX",
        "colab": {
          "base_uri": "https://localhost:8080/"
        },
        "outputId": "63fd3c2d-a031-4ce2-9ef1-351bdbba7d9c"
      },
      "source": [
        "print('Train ROC-AUC:', roc_auc_score(train_y_60, logreg.predict(train_x_60)).round(4) * 100)\n",
        "print('Test ROC-AUC:', roc_auc_score(test_y_40, y_hat).round(4) * 100)"
      ],
      "execution_count": null,
      "outputs": [
        {
          "output_type": "stream",
          "text": [
            "Train ROC-AUC: 50.0\n",
            "Test ROC-AUC: 50.0\n"
          ],
          "name": "stdout"
        }
      ]
    },
    {
      "cell_type": "code",
      "metadata": {
        "id": "EdKCz6QsqVSa",
        "colab": {
          "base_uri": "https://localhost:8080/"
        },
        "outputId": "9cb38790-1a4e-4837-b55f-c4ac5568ad52"
      },
      "source": [
        "confusion_matrix(test_y_40, y_hat)"
      ],
      "execution_count": null,
      "outputs": [
        {
          "output_type": "execute_result",
          "data": {
            "text/plain": [
              "array([[465286,      0],\n",
              "       [ 11436,      0]])"
            ]
          },
          "metadata": {
            "tags": []
          },
          "execution_count": 37
        }
      ]
    },
    {
      "cell_type": "markdown",
      "metadata": {
        "id": "-DLrMix-wtbN"
      },
      "source": [
        "##### KNN Model"
      ]
    },
    {
      "cell_type": "code",
      "metadata": {
        "id": "NzP639DFwtbN",
        "colab": {
          "base_uri": "https://localhost:8080/"
        },
        "outputId": "298b6cc4-e5d7-4b2f-b60a-0978e6c7d6f5"
      },
      "source": [
        "knn = KNeighborsClassifier()\n",
        "knn.fit(train_x_60, train_y_60)"
      ],
      "execution_count": null,
      "outputs": [
        {
          "output_type": "execute_result",
          "data": {
            "text/plain": [
              "KNeighborsClassifier(algorithm='auto', leaf_size=30, metric='minkowski',\n",
              "                     metric_params=None, n_jobs=None, n_neighbors=5, p=2,\n",
              "                     weights='uniform')"
            ]
          },
          "metadata": {
            "tags": []
          },
          "execution_count": 38
        }
      ]
    },
    {
      "cell_type": "code",
      "metadata": {
        "id": "7WYePjQuwtbN"
      },
      "source": [
        "start_time = time.time()\n",
        "y_pred = knn.predict(test_x_40)\n",
        "end_time_knn = round(time.time() - start_time, 4)"
      ],
      "execution_count": null,
      "outputs": []
    },
    {
      "cell_type": "code",
      "metadata": {
        "id": "VEO1ilecwtbN",
        "colab": {
          "base_uri": "https://localhost:8080/"
        },
        "outputId": "59125673-5a4f-4e1f-feaa-c688abeaee07"
      },
      "source": [
        "print(classification_report(test_y_40, y_pred))"
      ],
      "execution_count": null,
      "outputs": [
        {
          "output_type": "stream",
          "text": [
            "              precision    recall  f1-score   support\n",
            "\n",
            "           0       0.98      1.00      0.99    465286\n",
            "           1       0.43      0.08      0.13     11436\n",
            "\n",
            "    accuracy                           0.98    476722\n",
            "   macro avg       0.70      0.54      0.56    476722\n",
            "weighted avg       0.96      0.98      0.97    476722\n",
            "\n"
          ],
          "name": "stdout"
        }
      ]
    },
    {
      "cell_type": "code",
      "metadata": {
        "id": "2YJOegScwtbO",
        "colab": {
          "base_uri": "https://localhost:8080/"
        },
        "outputId": "d877baf7-2d0c-4f73-dd06-4ac40f188ec7"
      },
      "source": [
        "print('Train Accuracy:', accuracy_score(train_y_60, knn.predict(train_x_60)).round(4) * 100)\n",
        "print('Test Accuracy:', accuracy_score(test_y_40, y_pred).round(4) * 100)"
      ],
      "execution_count": null,
      "outputs": [
        {
          "output_type": "stream",
          "text": [
            "Train Accuracy: 97.84\n",
            "Test Accuracy: 97.54\n"
          ],
          "name": "stdout"
        }
      ]
    },
    {
      "cell_type": "code",
      "metadata": {
        "id": "4qcRJwrhwtbO",
        "colab": {
          "base_uri": "https://localhost:8080/"
        },
        "outputId": "de527ff5-3597-4127-a097-0d90290e698a"
      },
      "source": [
        "print('Train ROC-AUC:', roc_auc_score(train_y_60, knn.predict(train_x_60)).round(4) * 100)\n",
        "print('Test ROC-AUC:', roc_auc_score(test_y_40, y_pred).round(4) * 100)"
      ],
      "execution_count": null,
      "outputs": [
        {
          "output_type": "stream",
          "text": [
            "Train ROC-AUC: 57.36\n",
            "Test ROC-AUC: 53.769999999999996\n"
          ],
          "name": "stdout"
        }
      ]
    },
    {
      "cell_type": "code",
      "metadata": {
        "id": "Ko80w-BNwtbO",
        "colab": {
          "base_uri": "https://localhost:8080/"
        },
        "outputId": "e865bcc1-2cd7-4117-862c-4a82cf081615"
      },
      "source": [
        "confusion_matrix(test_y_40, y_pred)"
      ],
      "execution_count": null,
      "outputs": [
        {
          "output_type": "execute_result",
          "data": {
            "text/plain": [
              "array([[464090,   1196],\n",
              "       [ 10544,    892]])"
            ]
          },
          "metadata": {
            "tags": []
          },
          "execution_count": 43
        }
      ]
    },
    {
      "cell_type": "markdown",
      "metadata": {
        "id": "_a1cRiamwtlZ"
      },
      "source": [
        "##### Decision Tree Model"
      ]
    },
    {
      "cell_type": "code",
      "metadata": {
        "id": "RV4GabBSwtlZ",
        "colab": {
          "base_uri": "https://localhost:8080/"
        },
        "outputId": "57b9e5c0-22fa-4edc-a4a9-e31d4a53ed65"
      },
      "source": [
        "dtc = DecisionTreeClassifier(random_state=27)\n",
        "dtc.fit(train_x_60, train_y_60)"
      ],
      "execution_count": null,
      "outputs": [
        {
          "output_type": "execute_result",
          "data": {
            "text/plain": [
              "DecisionTreeClassifier(ccp_alpha=0.0, class_weight=None, criterion='gini',\n",
              "                       max_depth=None, max_features=None, max_leaf_nodes=None,\n",
              "                       min_impurity_decrease=0.0, min_impurity_split=None,\n",
              "                       min_samples_leaf=1, min_samples_split=2,\n",
              "                       min_weight_fraction_leaf=0.0, presort='deprecated',\n",
              "                       random_state=27, splitter='best')"
            ]
          },
          "metadata": {
            "tags": []
          },
          "execution_count": 44
        }
      ]
    },
    {
      "cell_type": "code",
      "metadata": {
        "id": "GK_PgXvCwtlZ"
      },
      "source": [
        "start_time - time.time()\n",
        "y_pred = dtc.predict(test_x_40)\n",
        "end_time_dtc = round(time.time() - start_time, 4)"
      ],
      "execution_count": null,
      "outputs": []
    },
    {
      "cell_type": "code",
      "metadata": {
        "id": "dp64JZ6dwtlZ",
        "colab": {
          "base_uri": "https://localhost:8080/"
        },
        "outputId": "d9d2f6cb-0052-4f2c-ef73-4fd04fac8521"
      },
      "source": [
        "print(classification_report(test_y_40, y_pred))"
      ],
      "execution_count": null,
      "outputs": [
        {
          "output_type": "stream",
          "text": [
            "              precision    recall  f1-score   support\n",
            "\n",
            "           0       1.00      1.00      1.00    465286\n",
            "           1       1.00      1.00      1.00     11436\n",
            "\n",
            "    accuracy                           1.00    476722\n",
            "   macro avg       1.00      1.00      1.00    476722\n",
            "weighted avg       1.00      1.00      1.00    476722\n",
            "\n"
          ],
          "name": "stdout"
        }
      ]
    },
    {
      "cell_type": "code",
      "metadata": {
        "id": "2qjYmqZxwtlZ",
        "colab": {
          "base_uri": "https://localhost:8080/"
        },
        "outputId": "24090ef1-0165-4c1f-b187-8482aed934a2"
      },
      "source": [
        "print('Train Accuracy:', accuracy_score(train_y_60, dtc.predict(train_x_60)).round(4) * 100)\n",
        "print('Test Accuracy:', accuracy_score(test_y_40, y_pred).round(4) * 100)"
      ],
      "execution_count": null,
      "outputs": [
        {
          "output_type": "stream",
          "text": [
            "Train Accuracy: 100.0\n",
            "Test Accuracy: 100.0\n"
          ],
          "name": "stdout"
        }
      ]
    },
    {
      "cell_type": "code",
      "metadata": {
        "id": "7oi0Fq0fwtla",
        "colab": {
          "base_uri": "https://localhost:8080/"
        },
        "outputId": "44449515-d962-4257-c801-d1dcd4d699eb"
      },
      "source": [
        "print('Train ROC-AUC:', roc_auc_score(train_y_60, dtc.predict(train_x_60)).round(4) * 100)\n",
        "print('Test ROC-AUC:', roc_auc_score(test_y_40, y_pred).round(4) * 100)"
      ],
      "execution_count": null,
      "outputs": [
        {
          "output_type": "stream",
          "text": [
            "Train ROC-AUC: 100.0\n",
            "Test ROC-AUC: 100.0\n"
          ],
          "name": "stdout"
        }
      ]
    },
    {
      "cell_type": "code",
      "metadata": {
        "id": "wwyM4AnDwtla",
        "colab": {
          "base_uri": "https://localhost:8080/"
        },
        "outputId": "9809f4b6-43d6-4295-d5ca-bf517df9e438"
      },
      "source": [
        "confusion_matrix(test_y_40, y_pred)"
      ],
      "execution_count": null,
      "outputs": [
        {
          "output_type": "execute_result",
          "data": {
            "text/plain": [
              "array([[465286,      0],\n",
              "       [     0,  11436]])"
            ]
          },
          "metadata": {
            "tags": []
          },
          "execution_count": 49
        }
      ]
    },
    {
      "cell_type": "markdown",
      "metadata": {
        "id": "YHLfk_twwtv9"
      },
      "source": [
        "##### XGBoost Model"
      ]
    },
    {
      "cell_type": "code",
      "metadata": {
        "id": "QdVkk4EYwtv9",
        "colab": {
          "base_uri": "https://localhost:8080/"
        },
        "outputId": "ac22f995-0391-4bc3-f2b3-54ea9caf7c54"
      },
      "source": [
        "xgb = XGBClassifier(random_state=27)\n",
        "xgb.fit(train_x_60, train_y_60)"
      ],
      "execution_count": null,
      "outputs": [
        {
          "output_type": "execute_result",
          "data": {
            "text/plain": [
              "XGBClassifier(base_score=0.5, booster='gbtree', colsample_bylevel=1,\n",
              "              colsample_bynode=1, colsample_bytree=1, gamma=0,\n",
              "              learning_rate=0.1, max_delta_step=0, max_depth=3,\n",
              "              min_child_weight=1, missing=None, n_estimators=100, n_jobs=1,\n",
              "              nthread=None, objective='binary:logistic', random_state=27,\n",
              "              reg_alpha=0, reg_lambda=1, scale_pos_weight=1, seed=None,\n",
              "              silent=None, subsample=1, verbosity=1)"
            ]
          },
          "metadata": {
            "tags": []
          },
          "execution_count": 50
        }
      ]
    },
    {
      "cell_type": "code",
      "metadata": {
        "id": "3cDvkhoEwtv-"
      },
      "source": [
        "start_time = time.time()\n",
        "y_pred = xgb.predict(test_x_40)\n",
        "end_time_xgb = round(time.time() - start_time, 4)"
      ],
      "execution_count": null,
      "outputs": []
    },
    {
      "cell_type": "code",
      "metadata": {
        "id": "hcgrdKEjwtv-",
        "colab": {
          "base_uri": "https://localhost:8080/"
        },
        "outputId": "202c1da3-ff0e-4c26-c13b-15e6ef063911"
      },
      "source": [
        "print(classification_report(test_y_40, y_pred))"
      ],
      "execution_count": null,
      "outputs": [
        {
          "output_type": "stream",
          "text": [
            "              precision    recall  f1-score   support\n",
            "\n",
            "           0       1.00      1.00      1.00    465286\n",
            "           1       1.00      1.00      1.00     11436\n",
            "\n",
            "    accuracy                           1.00    476722\n",
            "   macro avg       1.00      1.00      1.00    476722\n",
            "weighted avg       1.00      1.00      1.00    476722\n",
            "\n"
          ],
          "name": "stdout"
        }
      ]
    },
    {
      "cell_type": "code",
      "metadata": {
        "id": "8B_ZQFpewtv-",
        "colab": {
          "base_uri": "https://localhost:8080/"
        },
        "outputId": "24386f67-9ec5-40d5-a4f8-050b0b63efd7"
      },
      "source": [
        "print('Train Accuracy:', accuracy_score(train_y_60, xgb.predict(train_x_60)).round(4) * 100)\n",
        "print('Test Accuracy:', accuracy_score(test_y_40, y_pred).round(4) * 100)"
      ],
      "execution_count": null,
      "outputs": [
        {
          "output_type": "stream",
          "text": [
            "Train Accuracy: 100.0\n",
            "Test Accuracy: 100.0\n"
          ],
          "name": "stdout"
        }
      ]
    },
    {
      "cell_type": "code",
      "metadata": {
        "id": "4MbHOJEFwtv-",
        "colab": {
          "base_uri": "https://localhost:8080/"
        },
        "outputId": "3fb00049-df5d-41e6-9c34-36c58040e71c"
      },
      "source": [
        "print('Train ROC-AUC:', roc_auc_score(train_y_60, xgb.predict(train_x_60)).round(4) * 100)\n",
        "print('Test ROC-AUC:', roc_auc_score(test_y_40, y_pred).round(4) * 100)"
      ],
      "execution_count": null,
      "outputs": [
        {
          "output_type": "stream",
          "text": [
            "Train ROC-AUC: 100.0\n",
            "Test ROC-AUC: 100.0\n"
          ],
          "name": "stdout"
        }
      ]
    },
    {
      "cell_type": "code",
      "metadata": {
        "id": "49iRjeK7wtv-",
        "colab": {
          "base_uri": "https://localhost:8080/"
        },
        "outputId": "059cb277-d1a8-4afe-d29a-0c413c5375ab"
      },
      "source": [
        "confusion_matrix(test_y_40, y_pred)"
      ],
      "execution_count": null,
      "outputs": [
        {
          "output_type": "execute_result",
          "data": {
            "text/plain": [
              "array([[465286,      0],\n",
              "       [     0,  11436]])"
            ]
          },
          "metadata": {
            "tags": []
          },
          "execution_count": 55
        }
      ]
    },
    {
      "cell_type": "markdown",
      "metadata": {
        "id": "4vndUPPjwt5j"
      },
      "source": [
        "##### CatBoost Model"
      ]
    },
    {
      "cell_type": "code",
      "metadata": {
        "id": "CMgAqS80wt5j",
        "colab": {
          "base_uri": "https://localhost:8080/"
        },
        "outputId": "ca3207c4-fc24-42db-e683-5b429cdbc4ce"
      },
      "source": [
        "cat = CatBoostClassifier(random_state=27)\n",
        "cat.fit(train_x_60, train_y_60, verbose=False)"
      ],
      "execution_count": null,
      "outputs": [
        {
          "output_type": "execute_result",
          "data": {
            "text/plain": [
              "<catboost.core.CatBoostClassifier at 0x7f15e5db4c90>"
            ]
          },
          "metadata": {
            "tags": []
          },
          "execution_count": 56
        }
      ]
    },
    {
      "cell_type": "code",
      "metadata": {
        "id": "SXeKRvqcwt5j"
      },
      "source": [
        "start_time = time.time()\n",
        "y_pred = cat.predict(test_x_40)\n",
        "end_time_cat = round(time.time() - start_time, 4)"
      ],
      "execution_count": null,
      "outputs": []
    },
    {
      "cell_type": "code",
      "metadata": {
        "id": "Nn5o4rEzwt5j",
        "colab": {
          "base_uri": "https://localhost:8080/"
        },
        "outputId": "42092d15-53df-4d7d-98b3-b18c7b747111"
      },
      "source": [
        "print(classification_report(test_y_40, y_pred))"
      ],
      "execution_count": null,
      "outputs": [
        {
          "output_type": "stream",
          "text": [
            "              precision    recall  f1-score   support\n",
            "\n",
            "           0       1.00      1.00      1.00    465286\n",
            "           1       1.00      1.00      1.00     11436\n",
            "\n",
            "    accuracy                           1.00    476722\n",
            "   macro avg       1.00      1.00      1.00    476722\n",
            "weighted avg       1.00      1.00      1.00    476722\n",
            "\n"
          ],
          "name": "stdout"
        }
      ]
    },
    {
      "cell_type": "code",
      "metadata": {
        "id": "v_JsoeSpwt5j",
        "colab": {
          "base_uri": "https://localhost:8080/"
        },
        "outputId": "6077de57-b961-472e-cb64-51f54969e57e"
      },
      "source": [
        "print('Train Accuracy:', accuracy_score(train_y_60, cat.predict(train_x_60)).round(4) * 100)\n",
        "print('Test Accuracy:', accuracy_score(test_y_40, y_pred).round(4) * 100)"
      ],
      "execution_count": null,
      "outputs": [
        {
          "output_type": "stream",
          "text": [
            "Train Accuracy: 100.0\n",
            "Test Accuracy: 100.0\n"
          ],
          "name": "stdout"
        }
      ]
    },
    {
      "cell_type": "code",
      "metadata": {
        "id": "gSrlJZC4wt5k",
        "colab": {
          "base_uri": "https://localhost:8080/"
        },
        "outputId": "290e6481-78d8-44a6-cbca-10d86b710368"
      },
      "source": [
        "print('Train ROC-AUC:', roc_auc_score(train_y_60, cat.predict(train_x_60)).round(4) * 100)\n",
        "print('Test ROC-AUC:', roc_auc_score(test_y_40, y_pred).round(4) * 100)"
      ],
      "execution_count": null,
      "outputs": [
        {
          "output_type": "stream",
          "text": [
            "Train ROC-AUC: 100.0\n",
            "Test ROC-AUC: 100.0\n"
          ],
          "name": "stdout"
        }
      ]
    },
    {
      "cell_type": "code",
      "metadata": {
        "id": "z8vPGx-8wt5k",
        "colab": {
          "base_uri": "https://localhost:8080/"
        },
        "outputId": "b5b5c0e3-fd76-431b-b9c6-8c36d78ede00"
      },
      "source": [
        "confusion_matrix(test_y_40, y_pred)"
      ],
      "execution_count": null,
      "outputs": [
        {
          "output_type": "execute_result",
          "data": {
            "text/plain": [
              "array([[465286,      0],\n",
              "       [     0,  11436]])"
            ]
          },
          "metadata": {
            "tags": []
          },
          "execution_count": 61
        }
      ]
    },
    {
      "cell_type": "markdown",
      "metadata": {
        "id": "wcpmFweXwuDr"
      },
      "source": [
        "##### LightGBM Model"
      ]
    },
    {
      "cell_type": "code",
      "metadata": {
        "id": "y56xoqSswuDr",
        "colab": {
          "base_uri": "https://localhost:8080/"
        },
        "outputId": "a9700668-217e-44be-9810-6af19f06aa3e"
      },
      "source": [
        "lgb = LGBMClassifier(random_state=27)\n",
        "lgb.fit(train_x_60, train_y_60)"
      ],
      "execution_count": null,
      "outputs": [
        {
          "output_type": "execute_result",
          "data": {
            "text/plain": [
              "LGBMClassifier(boosting_type='gbdt', class_weight=None, colsample_bytree=1.0,\n",
              "               importance_type='split', learning_rate=0.1, max_depth=-1,\n",
              "               min_child_samples=20, min_child_weight=0.001, min_split_gain=0.0,\n",
              "               n_estimators=100, n_jobs=-1, num_leaves=31, objective=None,\n",
              "               random_state=27, reg_alpha=0.0, reg_lambda=0.0, silent=True,\n",
              "               subsample=1.0, subsample_for_bin=200000, subsample_freq=0)"
            ]
          },
          "metadata": {
            "tags": []
          },
          "execution_count": 62
        }
      ]
    },
    {
      "cell_type": "code",
      "metadata": {
        "id": "ZwhelcVvwuDr"
      },
      "source": [
        "start_time = time.time()\n",
        "y_pred = lgb.predict(test_x_40)\n",
        "end_time_lgb = round(time.time() - start_time, 4)"
      ],
      "execution_count": null,
      "outputs": []
    },
    {
      "cell_type": "code",
      "metadata": {
        "id": "Niab8ViSwuDr",
        "colab": {
          "base_uri": "https://localhost:8080/"
        },
        "outputId": "544dafab-89e7-4b99-b0e0-3a36889669cb"
      },
      "source": [
        "print(classification_report(test_y_40, y_pred))"
      ],
      "execution_count": null,
      "outputs": [
        {
          "output_type": "stream",
          "text": [
            "              precision    recall  f1-score   support\n",
            "\n",
            "           0       1.00      1.00      1.00    465286\n",
            "           1       1.00      1.00      1.00     11436\n",
            "\n",
            "    accuracy                           1.00    476722\n",
            "   macro avg       1.00      1.00      1.00    476722\n",
            "weighted avg       1.00      1.00      1.00    476722\n",
            "\n"
          ],
          "name": "stdout"
        }
      ]
    },
    {
      "cell_type": "code",
      "metadata": {
        "id": "7zZVao72wuDs",
        "colab": {
          "base_uri": "https://localhost:8080/"
        },
        "outputId": "3f5fed97-cf68-4007-e60d-24f401001d9e"
      },
      "source": [
        "print('Train Accuracy:', accuracy_score(train_y_60, lgb.predict(train_x_60)).round(4) * 100)\n",
        "print('Test Accuracy:', accuracy_score(test_y_40, y_pred).round(4) * 100)"
      ],
      "execution_count": null,
      "outputs": [
        {
          "output_type": "stream",
          "text": [
            "Train Accuracy: 100.0\n",
            "Test Accuracy: 100.0\n"
          ],
          "name": "stdout"
        }
      ]
    },
    {
      "cell_type": "code",
      "metadata": {
        "id": "f3lnJLFewuDs",
        "colab": {
          "base_uri": "https://localhost:8080/"
        },
        "outputId": "97fa35ef-20a3-47f4-a795-93767de5d197"
      },
      "source": [
        "print('Train ROC-AUC:', roc_auc_score(train_y_60, lgb.predict(train_x_60)).round(4) * 100)\n",
        "print('Test ROC-AUC:', roc_auc_score(test_y_40, y_pred).round(4) * 100)"
      ],
      "execution_count": null,
      "outputs": [
        {
          "output_type": "stream",
          "text": [
            "Train ROC-AUC: 100.0\n",
            "Test ROC-AUC: 100.0\n"
          ],
          "name": "stdout"
        }
      ]
    },
    {
      "cell_type": "code",
      "metadata": {
        "id": "nrDfscoHwuDs",
        "colab": {
          "base_uri": "https://localhost:8080/"
        },
        "outputId": "d68ddf2e-4190-4d36-bc52-57ee2f5d782c"
      },
      "source": [
        "confusion_matrix(test_y_40, y_pred)"
      ],
      "execution_count": null,
      "outputs": [
        {
          "output_type": "execute_result",
          "data": {
            "text/plain": [
              "array([[465286,      0],\n",
              "       [     0,  11436]])"
            ]
          },
          "metadata": {
            "tags": []
          },
          "execution_count": 67
        }
      ]
    },
    {
      "cell_type": "markdown",
      "metadata": {
        "id": "Nog7eeifVnSO"
      },
      "source": [
        "#### 70:30 Split"
      ]
    },
    {
      "cell_type": "markdown",
      "metadata": {
        "id": "_uDU5nGqVnSQ"
      },
      "source": [
        "##### Logistic Regression Model"
      ]
    },
    {
      "cell_type": "code",
      "metadata": {
        "id": "xIkiFixxVnSQ",
        "colab": {
          "base_uri": "https://localhost:8080/"
        },
        "outputId": "e96694ae-ac47-4bc9-f248-509094af5927"
      },
      "source": [
        "logreg_2 = LogisticRegression(random_state=27)\n",
        "logreg_2.fit(train_x_70, train_y_70)"
      ],
      "execution_count": null,
      "outputs": [
        {
          "output_type": "execute_result",
          "data": {
            "text/plain": [
              "LogisticRegression(C=1.0, class_weight=None, dual=False, fit_intercept=True,\n",
              "                   intercept_scaling=1, l1_ratio=None, max_iter=100,\n",
              "                   multi_class='auto', n_jobs=None, penalty='l2',\n",
              "                   random_state=27, solver='lbfgs', tol=0.0001, verbose=0,\n",
              "                   warm_start=False)"
            ]
          },
          "metadata": {
            "tags": []
          },
          "execution_count": 68
        }
      ]
    },
    {
      "cell_type": "code",
      "metadata": {
        "id": "wueTs7TRVnSR"
      },
      "source": [
        "start_time = time.time()\n",
        "y_hat = logreg_2.predict(test_x_30)\n",
        "end_time_logreg_2 = round(time.time() - start_time, 4)"
      ],
      "execution_count": null,
      "outputs": []
    },
    {
      "cell_type": "code",
      "metadata": {
        "id": "mw2GW3EPVnSR",
        "colab": {
          "base_uri": "https://localhost:8080/"
        },
        "outputId": "ee500603-1e8c-4a28-e6d1-b4f1aafb237a"
      },
      "source": [
        "print(classification_report(test_y_30, y_hat))"
      ],
      "execution_count": null,
      "outputs": [
        {
          "output_type": "stream",
          "text": [
            "              precision    recall  f1-score   support\n",
            "\n",
            "           0       0.98      1.00      0.99    348931\n",
            "           1       0.00      0.00      0.00      8611\n",
            "\n",
            "    accuracy                           0.98    357542\n",
            "   macro avg       0.49      0.50      0.49    357542\n",
            "weighted avg       0.95      0.98      0.96    357542\n",
            "\n"
          ],
          "name": "stdout"
        }
      ]
    },
    {
      "cell_type": "code",
      "metadata": {
        "id": "RDk-m1aYVnSR",
        "colab": {
          "base_uri": "https://localhost:8080/"
        },
        "outputId": "956bb035-9749-4ac5-a40e-57ce9d2141a7"
      },
      "source": [
        "print('Train Accuracy:', accuracy_score(train_y_70, logreg_2.predict(train_x_70)).round(4) * 100)\n",
        "print('Test Accuracy:', accuracy_score(test_y_30, y_hat).round(4) * 100)"
      ],
      "execution_count": null,
      "outputs": [
        {
          "output_type": "stream",
          "text": [
            "Train Accuracy: 97.6\n",
            "Test Accuracy: 97.59\n"
          ],
          "name": "stdout"
        }
      ]
    },
    {
      "cell_type": "code",
      "metadata": {
        "id": "lugLPXexVnSR",
        "colab": {
          "base_uri": "https://localhost:8080/"
        },
        "outputId": "51e40560-d1f5-43f6-f668-d9dae63b8417"
      },
      "source": [
        "print('Train ROC-AUC:', roc_auc_score(train_y_70, logreg_2.predict(train_x_70)).round(4) * 100)\n",
        "print('Test ROC-AUC:', roc_auc_score(test_y_30, y_hat).round(4) * 100)"
      ],
      "execution_count": null,
      "outputs": [
        {
          "output_type": "stream",
          "text": [
            "Train ROC-AUC: 50.0\n",
            "Test ROC-AUC: 50.0\n"
          ],
          "name": "stdout"
        }
      ]
    },
    {
      "cell_type": "code",
      "metadata": {
        "id": "lyr7_RBCVnSR",
        "colab": {
          "base_uri": "https://localhost:8080/"
        },
        "outputId": "f55b09b6-10bd-4d78-e297-707a911a2e3c"
      },
      "source": [
        "confusion_matrix(test_y_30, y_hat)"
      ],
      "execution_count": null,
      "outputs": [
        {
          "output_type": "execute_result",
          "data": {
            "text/plain": [
              "array([[348931,      0],\n",
              "       [  8611,      0]])"
            ]
          },
          "metadata": {
            "tags": []
          },
          "execution_count": 73
        }
      ]
    },
    {
      "cell_type": "markdown",
      "metadata": {
        "id": "2AhmSb5OVnSS"
      },
      "source": [
        "##### KNN Model"
      ]
    },
    {
      "cell_type": "code",
      "metadata": {
        "id": "ZraghJbjVnSS",
        "colab": {
          "base_uri": "https://localhost:8080/"
        },
        "outputId": "3fb34087-8634-4d08-ea72-a644536495c0"
      },
      "source": [
        "knn_2 = KNeighborsClassifier()\n",
        "knn_2.fit(train_x_70, train_y_70)"
      ],
      "execution_count": null,
      "outputs": [
        {
          "output_type": "execute_result",
          "data": {
            "text/plain": [
              "KNeighborsClassifier(algorithm='auto', leaf_size=30, metric='minkowski',\n",
              "                     metric_params=None, n_jobs=None, n_neighbors=5, p=2,\n",
              "                     weights='uniform')"
            ]
          },
          "metadata": {
            "tags": []
          },
          "execution_count": 74
        }
      ]
    },
    {
      "cell_type": "code",
      "metadata": {
        "id": "JItYdWwnVnSS"
      },
      "source": [
        "start_time = time.time()\n",
        "y_pred = knn_2.predict(test_x_30)\n",
        "end_time_knn_2 = round(time.time() - start_time, 4)"
      ],
      "execution_count": null,
      "outputs": []
    },
    {
      "cell_type": "code",
      "metadata": {
        "id": "3zP8YRFIVnSS",
        "colab": {
          "base_uri": "https://localhost:8080/"
        },
        "outputId": "71f7dd5a-565d-407b-c252-043444a61358"
      },
      "source": [
        "print(classification_report(test_y_30, y_pred))"
      ],
      "execution_count": null,
      "outputs": [
        {
          "output_type": "stream",
          "text": [
            "              precision    recall  f1-score   support\n",
            "\n",
            "           0       0.98      1.00      0.99    348931\n",
            "           1       0.45      0.08      0.14      8611\n",
            "\n",
            "    accuracy                           0.98    357542\n",
            "   macro avg       0.72      0.54      0.56    357542\n",
            "weighted avg       0.97      0.98      0.97    357542\n",
            "\n"
          ],
          "name": "stdout"
        }
      ]
    },
    {
      "cell_type": "code",
      "metadata": {
        "id": "ejWi3fgHVnSS",
        "colab": {
          "base_uri": "https://localhost:8080/"
        },
        "outputId": "bdfe4b6c-7644-49d6-82d8-44d362dc6dfd"
      },
      "source": [
        "print('Train Accuracy:', accuracy_score(train_y_70, knn_2.predict(train_x_70)).round(4) * 100)\n",
        "print('Test Accuracy:', accuracy_score(test_y_30, y_pred).round(4) * 100)"
      ],
      "execution_count": null,
      "outputs": [
        {
          "output_type": "stream",
          "text": [
            "Train Accuracy: 97.87\n",
            "Test Accuracy: 97.55\n"
          ],
          "name": "stdout"
        }
      ]
    },
    {
      "cell_type": "code",
      "metadata": {
        "id": "rn7g5u-oVnST",
        "colab": {
          "base_uri": "https://localhost:8080/"
        },
        "outputId": "b2ff0de1-5468-4384-86f2-91b14557f4d6"
      },
      "source": [
        "print('Train ROC-AUC:', roc_auc_score(train_y_70, knn_2.predict(train_x_70)).round(4) * 100)\n",
        "print('Test ROC-AUC:', roc_auc_score(test_y_30, y_pred).round(4) * 100)"
      ],
      "execution_count": null,
      "outputs": [
        {
          "output_type": "stream",
          "text": [
            "Train ROC-AUC: 57.98\n",
            "Test ROC-AUC: 54.06999999999999\n"
          ],
          "name": "stdout"
        }
      ]
    },
    {
      "cell_type": "code",
      "metadata": {
        "id": "UvihkXiiVnST",
        "colab": {
          "base_uri": "https://localhost:8080/"
        },
        "outputId": "f06831c3-208b-4c7a-99d7-ff1dbcd9aa8b"
      },
      "source": [
        "confusion_matrix(test_y_30, y_pred)"
      ],
      "execution_count": null,
      "outputs": [
        {
          "output_type": "execute_result",
          "data": {
            "text/plain": [
              "array([[348060,    871],\n",
              "       [  7888,    723]])"
            ]
          },
          "metadata": {
            "tags": []
          },
          "execution_count": 79
        }
      ]
    },
    {
      "cell_type": "markdown",
      "metadata": {
        "id": "B6P4FkawVnST"
      },
      "source": [
        "##### Decision Tree Model"
      ]
    },
    {
      "cell_type": "code",
      "metadata": {
        "id": "DOIpt6jwVnSU",
        "colab": {
          "base_uri": "https://localhost:8080/"
        },
        "outputId": "9c415005-ea2d-47fa-b7f9-5fd3b1b3322f"
      },
      "source": [
        "dtc_2 = DecisionTreeClassifier(random_state=27)\n",
        "dtc_2.fit(train_x_70, train_y_70)"
      ],
      "execution_count": null,
      "outputs": [
        {
          "output_type": "execute_result",
          "data": {
            "text/plain": [
              "DecisionTreeClassifier(ccp_alpha=0.0, class_weight=None, criterion='gini',\n",
              "                       max_depth=None, max_features=None, max_leaf_nodes=None,\n",
              "                       min_impurity_decrease=0.0, min_impurity_split=None,\n",
              "                       min_samples_leaf=1, min_samples_split=2,\n",
              "                       min_weight_fraction_leaf=0.0, presort='deprecated',\n",
              "                       random_state=27, splitter='best')"
            ]
          },
          "metadata": {
            "tags": []
          },
          "execution_count": 80
        }
      ]
    },
    {
      "cell_type": "code",
      "metadata": {
        "id": "7CL0a5AQVnSU"
      },
      "source": [
        "start_time - time.time()\n",
        "y_pred = dtc_2.predict(test_x_30)\n",
        "end_time_dtc_2 = round(time.time() - start_time, 4)"
      ],
      "execution_count": null,
      "outputs": []
    },
    {
      "cell_type": "code",
      "metadata": {
        "id": "ltyraAbLVnSU",
        "colab": {
          "base_uri": "https://localhost:8080/"
        },
        "outputId": "19c2aa1d-b868-4df2-cb1e-1484cea81336"
      },
      "source": [
        "print(classification_report(test_y_30, y_pred))"
      ],
      "execution_count": null,
      "outputs": [
        {
          "output_type": "stream",
          "text": [
            "              precision    recall  f1-score   support\n",
            "\n",
            "           0       1.00      1.00      1.00    348931\n",
            "           1       1.00      1.00      1.00      8611\n",
            "\n",
            "    accuracy                           1.00    357542\n",
            "   macro avg       1.00      1.00      1.00    357542\n",
            "weighted avg       1.00      1.00      1.00    357542\n",
            "\n"
          ],
          "name": "stdout"
        }
      ]
    },
    {
      "cell_type": "code",
      "metadata": {
        "id": "bdgn99L7VnSU",
        "colab": {
          "base_uri": "https://localhost:8080/"
        },
        "outputId": "9fda3071-a788-4ce1-d52e-edbbbee4c808"
      },
      "source": [
        "print('Train Accuracy:', accuracy_score(train_y_70, dtc_2.predict(train_x_70)).round(4) * 100)\n",
        "print('Test Accuracy:', accuracy_score(test_y_30, y_pred).round(4) * 100)"
      ],
      "execution_count": null,
      "outputs": [
        {
          "output_type": "stream",
          "text": [
            "Train Accuracy: 100.0\n",
            "Test Accuracy: 100.0\n"
          ],
          "name": "stdout"
        }
      ]
    },
    {
      "cell_type": "code",
      "metadata": {
        "id": "kVa-PMM7VnSV",
        "colab": {
          "base_uri": "https://localhost:8080/"
        },
        "outputId": "18d5150c-a954-4dff-8f5e-20cc4c3a0924"
      },
      "source": [
        "print('Train ROC-AUC:', roc_auc_score(train_y_70, dtc_2.predict(train_x_70)).round(4) * 100)\n",
        "print('Test ROC-AUC:', roc_auc_score(test_y_30, y_pred).round(4) * 100)"
      ],
      "execution_count": null,
      "outputs": [
        {
          "output_type": "stream",
          "text": [
            "Train ROC-AUC: 100.0\n",
            "Test ROC-AUC: 100.0\n"
          ],
          "name": "stdout"
        }
      ]
    },
    {
      "cell_type": "code",
      "metadata": {
        "id": "m0he-EKhVnSV",
        "colab": {
          "base_uri": "https://localhost:8080/"
        },
        "outputId": "ad5536ad-459e-40cb-f036-35545b963ad5"
      },
      "source": [
        "confusion_matrix(test_y_30, y_pred)"
      ],
      "execution_count": null,
      "outputs": [
        {
          "output_type": "execute_result",
          "data": {
            "text/plain": [
              "array([[348931,      0],\n",
              "       [     0,   8611]])"
            ]
          },
          "metadata": {
            "tags": []
          },
          "execution_count": 85
        }
      ]
    },
    {
      "cell_type": "markdown",
      "metadata": {
        "id": "jyi4cIkcVnSV"
      },
      "source": [
        "##### XGBoost Model"
      ]
    },
    {
      "cell_type": "code",
      "metadata": {
        "id": "gTHRAWaOVnSV",
        "colab": {
          "base_uri": "https://localhost:8080/"
        },
        "outputId": "d45e990d-85fb-41df-84f5-0dee380e4908"
      },
      "source": [
        "xgb_2 = XGBClassifier(random_state=27)\n",
        "xgb_2.fit(train_x_70, train_y_70)"
      ],
      "execution_count": null,
      "outputs": [
        {
          "output_type": "execute_result",
          "data": {
            "text/plain": [
              "XGBClassifier(base_score=0.5, booster='gbtree', colsample_bylevel=1,\n",
              "              colsample_bynode=1, colsample_bytree=1, gamma=0,\n",
              "              learning_rate=0.1, max_delta_step=0, max_depth=3,\n",
              "              min_child_weight=1, missing=None, n_estimators=100, n_jobs=1,\n",
              "              nthread=None, objective='binary:logistic', random_state=27,\n",
              "              reg_alpha=0, reg_lambda=1, scale_pos_weight=1, seed=None,\n",
              "              silent=None, subsample=1, verbosity=1)"
            ]
          },
          "metadata": {
            "tags": []
          },
          "execution_count": 86
        }
      ]
    },
    {
      "cell_type": "code",
      "metadata": {
        "id": "o3sUgD7nVnSV"
      },
      "source": [
        "start_time = time.time()\n",
        "y_pred = xgb_2.predict(test_x_30)\n",
        "end_time_xgb_2 = round(time.time() - start_time, 4)"
      ],
      "execution_count": null,
      "outputs": []
    },
    {
      "cell_type": "code",
      "metadata": {
        "id": "hA4P8pKHVnSV",
        "colab": {
          "base_uri": "https://localhost:8080/"
        },
        "outputId": "6ef6cb03-1d2a-404b-8d48-bfc7d4b40989"
      },
      "source": [
        "print(classification_report(test_y_30, y_pred))"
      ],
      "execution_count": null,
      "outputs": [
        {
          "output_type": "stream",
          "text": [
            "              precision    recall  f1-score   support\n",
            "\n",
            "           0       1.00      1.00      1.00    348931\n",
            "           1       1.00      1.00      1.00      8611\n",
            "\n",
            "    accuracy                           1.00    357542\n",
            "   macro avg       1.00      1.00      1.00    357542\n",
            "weighted avg       1.00      1.00      1.00    357542\n",
            "\n"
          ],
          "name": "stdout"
        }
      ]
    },
    {
      "cell_type": "code",
      "metadata": {
        "id": "NhM6Ku46VnSV",
        "colab": {
          "base_uri": "https://localhost:8080/"
        },
        "outputId": "a6b92db5-b3e1-47bb-82f4-1514fdc439d7"
      },
      "source": [
        "print('Train Accuracy:', accuracy_score(train_y_70, xgb_2.predict(train_x_70)).round(4) * 100)\n",
        "print('Test Accuracy:', accuracy_score(test_y_30, y_pred).round(4) * 100)"
      ],
      "execution_count": null,
      "outputs": [
        {
          "output_type": "stream",
          "text": [
            "Train Accuracy: 100.0\n",
            "Test Accuracy: 100.0\n"
          ],
          "name": "stdout"
        }
      ]
    },
    {
      "cell_type": "code",
      "metadata": {
        "id": "pnDUjiRyVnSV",
        "colab": {
          "base_uri": "https://localhost:8080/"
        },
        "outputId": "5d629e75-ffe3-46ed-d7bf-25b0a4802d1e"
      },
      "source": [
        "print('Train ROC-AUC:', roc_auc_score(train_y_70, xgb_2.predict(train_x_70)).round(4) * 100)\n",
        "print('Test ROC-AUC:', roc_auc_score(test_y_30, y_pred).round(4) * 100)"
      ],
      "execution_count": null,
      "outputs": [
        {
          "output_type": "stream",
          "text": [
            "Train ROC-AUC: 100.0\n",
            "Test ROC-AUC: 100.0\n"
          ],
          "name": "stdout"
        }
      ]
    },
    {
      "cell_type": "code",
      "metadata": {
        "id": "LOtBLnQ1VnSW",
        "colab": {
          "base_uri": "https://localhost:8080/"
        },
        "outputId": "1bef466e-4fe2-42b7-ffa3-a128a1444b43"
      },
      "source": [
        "confusion_matrix(test_y_30, y_pred)"
      ],
      "execution_count": null,
      "outputs": [
        {
          "output_type": "execute_result",
          "data": {
            "text/plain": [
              "array([[348931,      0],\n",
              "       [     0,   8611]])"
            ]
          },
          "metadata": {
            "tags": []
          },
          "execution_count": 91
        }
      ]
    },
    {
      "cell_type": "markdown",
      "metadata": {
        "id": "PdxTlRr1VnSW"
      },
      "source": [
        "##### CatBoost Model"
      ]
    },
    {
      "cell_type": "code",
      "metadata": {
        "id": "4jK4VFeDVnSW",
        "colab": {
          "base_uri": "https://localhost:8080/"
        },
        "outputId": "0142a3ec-7a1b-4795-9430-b0d15102960f"
      },
      "source": [
        "cat_2 = CatBoostClassifier(random_state=27)\n",
        "cat_2.fit(train_x_70, train_y_70, verbose=False)"
      ],
      "execution_count": null,
      "outputs": [
        {
          "output_type": "execute_result",
          "data": {
            "text/plain": [
              "<catboost.core.CatBoostClassifier at 0x7f15e22b5150>"
            ]
          },
          "metadata": {
            "tags": []
          },
          "execution_count": 92
        }
      ]
    },
    {
      "cell_type": "code",
      "metadata": {
        "id": "59oTSCmfVnSW"
      },
      "source": [
        "start_time = time.time()\n",
        "y_pred = cat_2.predict(test_x_30)\n",
        "end_time_cat_2 = round(time.time() - start_time, 4)"
      ],
      "execution_count": null,
      "outputs": []
    },
    {
      "cell_type": "code",
      "metadata": {
        "id": "xBaHYU3rVnSW",
        "colab": {
          "base_uri": "https://localhost:8080/"
        },
        "outputId": "9ef89cc3-be23-401a-d010-902dedfc2674"
      },
      "source": [
        "print(classification_report(test_y_30, y_pred))"
      ],
      "execution_count": null,
      "outputs": [
        {
          "output_type": "stream",
          "text": [
            "              precision    recall  f1-score   support\n",
            "\n",
            "           0       1.00      1.00      1.00    348931\n",
            "           1       1.00      1.00      1.00      8611\n",
            "\n",
            "    accuracy                           1.00    357542\n",
            "   macro avg       1.00      1.00      1.00    357542\n",
            "weighted avg       1.00      1.00      1.00    357542\n",
            "\n"
          ],
          "name": "stdout"
        }
      ]
    },
    {
      "cell_type": "code",
      "metadata": {
        "id": "YK-rTnB0VnSW",
        "colab": {
          "base_uri": "https://localhost:8080/"
        },
        "outputId": "094e8fae-c72a-4c8a-f68a-64436339c764"
      },
      "source": [
        "print('Train Accuracy:', accuracy_score(train_y_70, cat_2.predict(train_x_70)).round(4) * 100)\n",
        "print('Test Accuracy:', accuracy_score(test_y_30, y_pred).round(4) * 100)"
      ],
      "execution_count": null,
      "outputs": [
        {
          "output_type": "stream",
          "text": [
            "Train Accuracy: 100.0\n",
            "Test Accuracy: 100.0\n"
          ],
          "name": "stdout"
        }
      ]
    },
    {
      "cell_type": "code",
      "metadata": {
        "id": "eRg1TLqRVnSW",
        "colab": {
          "base_uri": "https://localhost:8080/"
        },
        "outputId": "f4cb42ac-3db3-48a4-af15-7d26466d3e08"
      },
      "source": [
        "print('Train ROC-AUC:', roc_auc_score(train_y_70, cat_2.predict(train_x_70)).round(4) * 100)\n",
        "print('Test ROC-AUC:', roc_auc_score(test_y_30, y_pred).round(4) * 100)"
      ],
      "execution_count": null,
      "outputs": [
        {
          "output_type": "stream",
          "text": [
            "Train ROC-AUC: 100.0\n",
            "Test ROC-AUC: 100.0\n"
          ],
          "name": "stdout"
        }
      ]
    },
    {
      "cell_type": "code",
      "metadata": {
        "id": "1j_3MA-FVnSW",
        "colab": {
          "base_uri": "https://localhost:8080/"
        },
        "outputId": "bcf6c397-379f-4955-c058-92ba47e71c06"
      },
      "source": [
        "confusion_matrix(test_y_30, y_pred)"
      ],
      "execution_count": null,
      "outputs": [
        {
          "output_type": "execute_result",
          "data": {
            "text/plain": [
              "array([[348931,      0],\n",
              "       [     0,   8611]])"
            ]
          },
          "metadata": {
            "tags": []
          },
          "execution_count": 97
        }
      ]
    },
    {
      "cell_type": "markdown",
      "metadata": {
        "id": "s6IDdkYKVnSW"
      },
      "source": [
        "##### LightGBM Model"
      ]
    },
    {
      "cell_type": "code",
      "metadata": {
        "id": "UiOYs8tfVnSX",
        "colab": {
          "base_uri": "https://localhost:8080/"
        },
        "outputId": "34377ff1-5a45-475f-ea16-04b18e45e9be"
      },
      "source": [
        "lgb_2 = LGBMClassifier(random_state=27)\n",
        "lgb_2.fit(train_x_70, train_y_70)"
      ],
      "execution_count": null,
      "outputs": [
        {
          "output_type": "execute_result",
          "data": {
            "text/plain": [
              "LGBMClassifier(boosting_type='gbdt', class_weight=None, colsample_bytree=1.0,\n",
              "               importance_type='split', learning_rate=0.1, max_depth=-1,\n",
              "               min_child_samples=20, min_child_weight=0.001, min_split_gain=0.0,\n",
              "               n_estimators=100, n_jobs=-1, num_leaves=31, objective=None,\n",
              "               random_state=27, reg_alpha=0.0, reg_lambda=0.0, silent=True,\n",
              "               subsample=1.0, subsample_for_bin=200000, subsample_freq=0)"
            ]
          },
          "metadata": {
            "tags": []
          },
          "execution_count": 98
        }
      ]
    },
    {
      "cell_type": "code",
      "metadata": {
        "id": "rCoz0U0DVnSX"
      },
      "source": [
        "start_time = time.time()\n",
        "y_pred = lgb_2.predict(test_x_30)\n",
        "end_time_lgb_2 = round(time.time() - start_time, 4)"
      ],
      "execution_count": null,
      "outputs": []
    },
    {
      "cell_type": "code",
      "metadata": {
        "id": "OyZEu_2TVnSX",
        "colab": {
          "base_uri": "https://localhost:8080/"
        },
        "outputId": "b2b0ad4b-e1d8-45b2-f3f1-1975257e1230"
      },
      "source": [
        "print(classification_report(test_y_30, y_pred))"
      ],
      "execution_count": null,
      "outputs": [
        {
          "output_type": "stream",
          "text": [
            "              precision    recall  f1-score   support\n",
            "\n",
            "           0       1.00      1.00      1.00    348931\n",
            "           1       1.00      1.00      1.00      8611\n",
            "\n",
            "    accuracy                           1.00    357542\n",
            "   macro avg       1.00      1.00      1.00    357542\n",
            "weighted avg       1.00      1.00      1.00    357542\n",
            "\n"
          ],
          "name": "stdout"
        }
      ]
    },
    {
      "cell_type": "code",
      "metadata": {
        "id": "gj9FG7u-VnSX",
        "colab": {
          "base_uri": "https://localhost:8080/"
        },
        "outputId": "a4f7042d-0f0b-4e6e-dbc8-65a7b4047e81"
      },
      "source": [
        "print('Train Accuracy:', accuracy_score(train_y_70, lgb_2.predict(train_x_70)).round(4) * 100)\n",
        "print('Test Accuracy:', accuracy_score(test_y_30, y_pred).round(4) * 100)"
      ],
      "execution_count": null,
      "outputs": [
        {
          "output_type": "stream",
          "text": [
            "Train Accuracy: 100.0\n",
            "Test Accuracy: 100.0\n"
          ],
          "name": "stdout"
        }
      ]
    },
    {
      "cell_type": "code",
      "metadata": {
        "id": "n727bGelVnSX",
        "colab": {
          "base_uri": "https://localhost:8080/"
        },
        "outputId": "854ad96a-df3c-47c2-9fd9-8a8706965185"
      },
      "source": [
        "print('Train ROC-AUC:', roc_auc_score(train_y_70, lgb_2.predict(train_x_70)).round(4) * 100)\n",
        "print('Test ROC-AUC:', roc_auc_score(test_y_30, y_pred).round(4) * 100)"
      ],
      "execution_count": null,
      "outputs": [
        {
          "output_type": "stream",
          "text": [
            "Train ROC-AUC: 100.0\n",
            "Test ROC-AUC: 100.0\n"
          ],
          "name": "stdout"
        }
      ]
    },
    {
      "cell_type": "code",
      "metadata": {
        "id": "47IJVut2VnSX",
        "colab": {
          "base_uri": "https://localhost:8080/"
        },
        "outputId": "cc8fab8f-3504-4376-f769-b7eab5363d97"
      },
      "source": [
        "confusion_matrix(test_y_30, y_pred)"
      ],
      "execution_count": null,
      "outputs": [
        {
          "output_type": "execute_result",
          "data": {
            "text/plain": [
              "array([[348931,      0],\n",
              "       [     0,   8611]])"
            ]
          },
          "metadata": {
            "tags": []
          },
          "execution_count": 103
        }
      ]
    },
    {
      "cell_type": "markdown",
      "metadata": {
        "id": "S183ncjtMmzw"
      },
      "source": [
        "##### Model Comparison"
      ]
    },
    {
      "cell_type": "code",
      "metadata": {
        "id": "GbygrbXJTygf"
      },
      "source": [
        "# Comparing the results obtained from different models with default parameters \n",
        "# 60:40 split\n",
        "df_compare = pd.DataFrame({'Model': [type(logreg).__name__, type(knn).__name__, type(dtc).__name__,\n",
        "                                     type(xgb).__name__, type(cat).__name__, type(lgb).__name__],\n",
        "                           'Train Accuracy': [logreg.score(train_x_60, train_y_60).round(4) * 100, \n",
        "                                              knn.score(train_x_60, train_y_60).round(4) * 100, dtc.score(train_x_60, train_y_60).round(4) * 100,\n",
        "                                              xgb.score(train_x_60, train_y_60).round(4) * 100, \n",
        "                                              cat.score(train_x_60, train_y_60).round(4) * 100, lgb.score(train_x_60, train_y_60).round(4) * 100],\n",
        "                           'Test Accuracy': [logreg.score(test_x_40, test_y_40).round(4) * 100, \n",
        "                                              knn.score(test_x_40, test_y_40).round(4) * 100, dtc.score(test_x_40, test_y_40).round(4) * 100,\n",
        "                                             xgb.score(test_x_40, test_y_40).round(4) * 100, \n",
        "                                              cat.score(test_x_40, test_y_40).round(4) * 100, lgb.score(test_x_40, test_y_40).round(4) * 100],\n",
        "                           'Train ROC-AUC': [roc_auc_score(train_y_60, logreg.predict(train_x_60)).round(4) * 100,\n",
        "                                             roc_auc_score(train_y_60, knn.predict(train_x_60)).round(4) * 100,\n",
        "                                             roc_auc_score(train_y_60, dtc.predict(train_x_60)).round(4) * 100,\n",
        "                                             roc_auc_score(train_y_60, xgb.predict(train_x_60)).round(4) * 100,\n",
        "                                             roc_auc_score(train_y_60, cat.predict(train_x_60)).round(4) * 100,\n",
        "                                             roc_auc_score(train_y_60, lgb.predict(train_x_60)).round(4) * 100],\n",
        "                           'Test ROC-AUC': [roc_auc_score(test_y_40, logreg.predict(test_x_40)).round(4) * 100,\n",
        "                                            roc_auc_score(test_y_40, knn.predict(test_x_40)).round(4) * 100,\n",
        "                                            roc_auc_score(test_y_40, dtc.predict(test_x_40)).round(4) * 100,\n",
        "                                            roc_auc_score(test_y_40, xgb.predict(test_x_40)).round(4) * 100,\n",
        "                                            roc_auc_score(test_y_40, cat.predict(test_x_40)).round(4) * 100,\n",
        "                                            roc_auc_score(test_y_40, lgb.predict(test_x_40)).round(4) * 100],\n",
        "                           'Time of Inference': [end_time_logreg, end_time_knn, end_time_dtc,\n",
        "                                                 end_time_xgb, end_time_cat, end_time_lgb]})\n",
        "\n",
        "# 70:30 split\n",
        "df_compare_2 = pd.DataFrame({'Model': [type(logreg_2).__name__, type(knn_2).__name__, type(dtc_2).__name__,\n",
        "                                     type(xgb_2).__name__, type(cat_2).__name__, type(lgb_2).__name__],\n",
        "                           'Train Accuracy': [logreg_2.score(train_x_70, train_y_70).round(4) * 100, \n",
        "                                              knn_2.score(train_x_70, train_y_70).round(4) * 100, dtc_2.score(train_x_70, train_y_70).round(4) * 100,\n",
        "                                              xgb_2.score(train_x_70, train_y_70).round(4) * 100, \n",
        "                                              cat_2.score(train_x_70, train_y_70).round(4) * 100, lgb_2.score(train_x_70, train_y_70).round(4) * 100],\n",
        "                           'Test Accuracy': [logreg_2.score(test_x_30, test_y_30).round(4) * 100, \n",
        "                                              knn_2.score(test_x_30, test_y_30).round(4) * 100, dtc_2.score(test_x_30, test_y_30).round(4) * 100,\n",
        "                                             xgb_2.score(test_x_30, test_y_30).round(4) * 100, \n",
        "                                              cat_2.score(test_x_30, test_y_30).round(4) * 100, lgb_2.score(test_x_30, test_y_30).round(4) * 100],\n",
        "                           'Train ROC-AUC': [roc_auc_score(train_y_70, logreg_2.predict(train_x_70)).round(4) * 100,\n",
        "                                             roc_auc_score(train_y_70, knn_2.predict(train_x_70)).round(4) * 100,\n",
        "                                             roc_auc_score(train_y_70, dtc_2.predict(train_x_70)).round(4) * 100,\n",
        "                                             roc_auc_score(train_y_70, xgb_2.predict(train_x_70)).round(4) * 100,\n",
        "                                             roc_auc_score(train_y_70, cat_2.predict(train_x_70)).round(4) * 100,\n",
        "                                             roc_auc_score(train_y_70, lgb_2.predict(train_x_70)).round(4) * 100],\n",
        "                           'Test ROC-AUC': [roc_auc_score(test_y_30, logreg_2.predict(test_x_30)).round(4) * 100,\n",
        "                                            roc_auc_score(test_y_30, knn_2.predict(test_x_30)).round(4) * 100,\n",
        "                                            roc_auc_score(test_y_30, dtc_2.predict(test_x_30)).round(4) * 100,\n",
        "                                            roc_auc_score(test_y_30, xgb_2.predict(test_x_30)).round(4) * 100,\n",
        "                                            roc_auc_score(test_y_30, cat_2.predict(test_x_30)).round(4) * 100,\n",
        "                                            roc_auc_score(test_y_30, lgb_2.predict(test_x_30)).round(4) * 100],\n",
        "                           'Time of Inference': [end_time_logreg_2, end_time_knn_2, end_time_dtc_2,\n",
        "                                                 end_time_xgb_2, end_time_cat_2, end_time_lgb_2]})"
      ],
      "execution_count": null,
      "outputs": []
    },
    {
      "cell_type": "code",
      "metadata": {
        "id": "GA8ubCb1Fk3y",
        "colab": {
          "base_uri": "https://localhost:8080/",
          "height": 157
        },
        "outputId": "c940207c-3649-48ee-96e1-7b2160c38264"
      },
      "source": [
        "df_compare.style.set_caption(\"60:40 Split\")"
      ],
      "execution_count": null,
      "outputs": [
        {
          "output_type": "execute_result",
          "data": {
            "text/html": [
              "<style  type=\"text/css\" >\n",
              "</style><table id=\"T_33e5626e_9728_11eb_8eec_0242ac1c0002\" ><caption>60:40 Split</caption><thead>    <tr>        <th class=\"blank level0\" ></th>        <th class=\"col_heading level0 col0\" >Model</th>        <th class=\"col_heading level0 col1\" >Train Accuracy</th>        <th class=\"col_heading level0 col2\" >Test Accuracy</th>        <th class=\"col_heading level0 col3\" >Train ROC-AUC</th>        <th class=\"col_heading level0 col4\" >Test ROC-AUC</th>        <th class=\"col_heading level0 col5\" >Time of Inference</th>    </tr></thead><tbody>\n",
              "                <tr>\n",
              "                        <th id=\"T_33e5626e_9728_11eb_8eec_0242ac1c0002level0_row0\" class=\"row_heading level0 row0\" >0</th>\n",
              "                        <td id=\"T_33e5626e_9728_11eb_8eec_0242ac1c0002row0_col0\" class=\"data row0 col0\" >LogisticRegression</td>\n",
              "                        <td id=\"T_33e5626e_9728_11eb_8eec_0242ac1c0002row0_col1\" class=\"data row0 col1\" >97.600000</td>\n",
              "                        <td id=\"T_33e5626e_9728_11eb_8eec_0242ac1c0002row0_col2\" class=\"data row0 col2\" >97.600000</td>\n",
              "                        <td id=\"T_33e5626e_9728_11eb_8eec_0242ac1c0002row0_col3\" class=\"data row0 col3\" >50.000000</td>\n",
              "                        <td id=\"T_33e5626e_9728_11eb_8eec_0242ac1c0002row0_col4\" class=\"data row0 col4\" >50.000000</td>\n",
              "                        <td id=\"T_33e5626e_9728_11eb_8eec_0242ac1c0002row0_col5\" class=\"data row0 col5\" >0.032100</td>\n",
              "            </tr>\n",
              "            <tr>\n",
              "                        <th id=\"T_33e5626e_9728_11eb_8eec_0242ac1c0002level0_row1\" class=\"row_heading level0 row1\" >1</th>\n",
              "                        <td id=\"T_33e5626e_9728_11eb_8eec_0242ac1c0002row1_col0\" class=\"data row1 col0\" >KNeighborsClassifier</td>\n",
              "                        <td id=\"T_33e5626e_9728_11eb_8eec_0242ac1c0002row1_col1\" class=\"data row1 col1\" >97.840000</td>\n",
              "                        <td id=\"T_33e5626e_9728_11eb_8eec_0242ac1c0002row1_col2\" class=\"data row1 col2\" >97.540000</td>\n",
              "                        <td id=\"T_33e5626e_9728_11eb_8eec_0242ac1c0002row1_col3\" class=\"data row1 col3\" >57.360000</td>\n",
              "                        <td id=\"T_33e5626e_9728_11eb_8eec_0242ac1c0002row1_col4\" class=\"data row1 col4\" >53.770000</td>\n",
              "                        <td id=\"T_33e5626e_9728_11eb_8eec_0242ac1c0002row1_col5\" class=\"data row1 col5\" >27.058100</td>\n",
              "            </tr>\n",
              "            <tr>\n",
              "                        <th id=\"T_33e5626e_9728_11eb_8eec_0242ac1c0002level0_row2\" class=\"row_heading level0 row2\" >2</th>\n",
              "                        <td id=\"T_33e5626e_9728_11eb_8eec_0242ac1c0002row2_col0\" class=\"data row2 col0\" >DecisionTreeClassifier</td>\n",
              "                        <td id=\"T_33e5626e_9728_11eb_8eec_0242ac1c0002row2_col1\" class=\"data row2 col1\" >100.000000</td>\n",
              "                        <td id=\"T_33e5626e_9728_11eb_8eec_0242ac1c0002row2_col2\" class=\"data row2 col2\" >100.000000</td>\n",
              "                        <td id=\"T_33e5626e_9728_11eb_8eec_0242ac1c0002row2_col3\" class=\"data row2 col3\" >100.000000</td>\n",
              "                        <td id=\"T_33e5626e_9728_11eb_8eec_0242ac1c0002row2_col4\" class=\"data row2 col4\" >100.000000</td>\n",
              "                        <td id=\"T_33e5626e_9728_11eb_8eec_0242ac1c0002row2_col5\" class=\"data row2 col5\" >112.876800</td>\n",
              "            </tr>\n",
              "            <tr>\n",
              "                        <th id=\"T_33e5626e_9728_11eb_8eec_0242ac1c0002level0_row3\" class=\"row_heading level0 row3\" >3</th>\n",
              "                        <td id=\"T_33e5626e_9728_11eb_8eec_0242ac1c0002row3_col0\" class=\"data row3 col0\" >XGBClassifier</td>\n",
              "                        <td id=\"T_33e5626e_9728_11eb_8eec_0242ac1c0002row3_col1\" class=\"data row3 col1\" >100.000000</td>\n",
              "                        <td id=\"T_33e5626e_9728_11eb_8eec_0242ac1c0002row3_col2\" class=\"data row3 col2\" >100.000000</td>\n",
              "                        <td id=\"T_33e5626e_9728_11eb_8eec_0242ac1c0002row3_col3\" class=\"data row3 col3\" >100.000000</td>\n",
              "                        <td id=\"T_33e5626e_9728_11eb_8eec_0242ac1c0002row3_col4\" class=\"data row3 col4\" >100.000000</td>\n",
              "                        <td id=\"T_33e5626e_9728_11eb_8eec_0242ac1c0002row3_col5\" class=\"data row3 col5\" >0.640400</td>\n",
              "            </tr>\n",
              "            <tr>\n",
              "                        <th id=\"T_33e5626e_9728_11eb_8eec_0242ac1c0002level0_row4\" class=\"row_heading level0 row4\" >4</th>\n",
              "                        <td id=\"T_33e5626e_9728_11eb_8eec_0242ac1c0002row4_col0\" class=\"data row4 col0\" >CatBoostClassifier</td>\n",
              "                        <td id=\"T_33e5626e_9728_11eb_8eec_0242ac1c0002row4_col1\" class=\"data row4 col1\" >100.000000</td>\n",
              "                        <td id=\"T_33e5626e_9728_11eb_8eec_0242ac1c0002row4_col2\" class=\"data row4 col2\" >100.000000</td>\n",
              "                        <td id=\"T_33e5626e_9728_11eb_8eec_0242ac1c0002row4_col3\" class=\"data row4 col3\" >100.000000</td>\n",
              "                        <td id=\"T_33e5626e_9728_11eb_8eec_0242ac1c0002row4_col4\" class=\"data row4 col4\" >100.000000</td>\n",
              "                        <td id=\"T_33e5626e_9728_11eb_8eec_0242ac1c0002row4_col5\" class=\"data row4 col5\" >0.448700</td>\n",
              "            </tr>\n",
              "            <tr>\n",
              "                        <th id=\"T_33e5626e_9728_11eb_8eec_0242ac1c0002level0_row5\" class=\"row_heading level0 row5\" >5</th>\n",
              "                        <td id=\"T_33e5626e_9728_11eb_8eec_0242ac1c0002row5_col0\" class=\"data row5 col0\" >LGBMClassifier</td>\n",
              "                        <td id=\"T_33e5626e_9728_11eb_8eec_0242ac1c0002row5_col1\" class=\"data row5 col1\" >100.000000</td>\n",
              "                        <td id=\"T_33e5626e_9728_11eb_8eec_0242ac1c0002row5_col2\" class=\"data row5 col2\" >100.000000</td>\n",
              "                        <td id=\"T_33e5626e_9728_11eb_8eec_0242ac1c0002row5_col3\" class=\"data row5 col3\" >100.000000</td>\n",
              "                        <td id=\"T_33e5626e_9728_11eb_8eec_0242ac1c0002row5_col4\" class=\"data row5 col4\" >100.000000</td>\n",
              "                        <td id=\"T_33e5626e_9728_11eb_8eec_0242ac1c0002row5_col5\" class=\"data row5 col5\" >1.790100</td>\n",
              "            </tr>\n",
              "    </tbody></table>"
            ],
            "text/plain": [
              "<pandas.io.formats.style.Styler at 0x7f15e2293690>"
            ]
          },
          "metadata": {
            "tags": []
          },
          "execution_count": 105
        }
      ]
    },
    {
      "cell_type": "code",
      "metadata": {
        "id": "67HM27M4bThM",
        "colab": {
          "base_uri": "https://localhost:8080/",
          "height": 508
        },
        "outputId": "80ffd2f4-1748-4222-ef7a-750510deb6da"
      },
      "source": [
        "fig, ax1 = plt.subplots(figsize=(10,5), dpi=105)\n",
        "tidy = df_compare[['Model', 'Train Accuracy', 'Test Accuracy']].melt(id_vars='Model').rename(columns=str.title)\n",
        "sns.barplot(x='Value', y='Model', hue='Variable', data=tidy, ax=ax1)\n",
        "plt.title('Training vs. Testing Accuracy')\n",
        "plt.legend(loc='upper center')\n",
        "plt.show()"
      ],
      "execution_count": null,
      "outputs": [
        {
          "output_type": "display_data",
          "data": {
            "image/png": "[encoded data removed]",
            "text/plain": [
              "<Figure size 1050x525 with 1 Axes>"
            ]
          },
          "metadata": {
            "tags": [],
            "needs_background": "light"
          }
        }
      ]
    },
    {
      "cell_type": "code",
      "metadata": {
        "id": "QVpS0_V6hxwP",
        "colab": {
          "base_uri": "https://localhost:8080/",
          "height": 508
        },
        "outputId": "b259f6e6-9546-409c-c07c-022b6261526a"
      },
      "source": [
        "fig, ax1 = plt.subplots(figsize=(10,5), dpi=105)\n",
        "tidy = df_compare[['Model', 'Train ROC-AUC', 'Test ROC-AUC']].melt(id_vars='Model').rename(columns=str.title)\n",
        "sns.barplot(x='Value', y='Model', hue='Variable', data=tidy, ax=ax1)\n",
        "plt.title('Training vs. Testing ROC-AUC')\n",
        "plt.show()"
      ],
      "execution_count": null,
      "outputs": [
        {
          "output_type": "display_data",
          "data": {
            "image/png": "[encoded data removed]",
            "text/plain": [
              "<Figure size 1050x525 with 1 Axes>"
            ]
          },
          "metadata": {
            "tags": [],
            "needs_background": "light"
          }
        }
      ]
    },
    {
      "cell_type": "code",
      "metadata": {
        "id": "0v6xEoWO4iSL",
        "colab": {
          "base_uri": "https://localhost:8080/",
          "height": 508
        },
        "outputId": "ab22e166-d405-49e1-c1da-5542861c23e0"
      },
      "source": [
        "plt.figure(figsize=(8,5), dpi=105)\n",
        "sns.barplot(x='Time of Inference', y='Model', data=df_compare)\n",
        "\n",
        "for index, value in enumerate(df_compare_2['Time of Inference']):\n",
        "    plt.text(value, index, str(value))\n",
        "\n",
        "plt.title('Time of Execution')\n",
        "plt.show()"
      ],
      "execution_count": null,
      "outputs": [
        {
          "output_type": "display_data",
          "data": {
            "image/png": "[encoded data removed]",
            "text/plain": [
              "<Figure size 840x525 with 1 Axes>"
            ]
          },
          "metadata": {
            "tags": [],
            "needs_background": "light"
          }
        }
      ]
    },
    {
      "cell_type": "code",
      "metadata": {
        "id": "EeGNYlbJAfpP",
        "colab": {
          "base_uri": "https://localhost:8080/",
          "height": 157
        },
        "outputId": "11990bc6-b204-4b56-b673-d8b832afea87"
      },
      "source": [
        "df_compare_2.style.set_caption(\"70:30 Split\")"
      ],
      "execution_count": null,
      "outputs": [
        {
          "output_type": "execute_result",
          "data": {
            "text/html": [
              "<style  type=\"text/css\" >\n",
              "</style><table id=\"T_34a266ca_9728_11eb_8eec_0242ac1c0002\" ><caption>70:30 Split</caption><thead>    <tr>        <th class=\"blank level0\" ></th>        <th class=\"col_heading level0 col0\" >Model</th>        <th class=\"col_heading level0 col1\" >Train Accuracy</th>        <th class=\"col_heading level0 col2\" >Test Accuracy</th>        <th class=\"col_heading level0 col3\" >Train ROC-AUC</th>        <th class=\"col_heading level0 col4\" >Test ROC-AUC</th>        <th class=\"col_heading level0 col5\" >Time of Inference</th>    </tr></thead><tbody>\n",
              "                <tr>\n",
              "                        <th id=\"T_34a266ca_9728_11eb_8eec_0242ac1c0002level0_row0\" class=\"row_heading level0 row0\" >0</th>\n",
              "                        <td id=\"T_34a266ca_9728_11eb_8eec_0242ac1c0002row0_col0\" class=\"data row0 col0\" >LogisticRegression</td>\n",
              "                        <td id=\"T_34a266ca_9728_11eb_8eec_0242ac1c0002row0_col1\" class=\"data row0 col1\" >97.600000</td>\n",
              "                        <td id=\"T_34a266ca_9728_11eb_8eec_0242ac1c0002row0_col2\" class=\"data row0 col2\" >97.590000</td>\n",
              "                        <td id=\"T_34a266ca_9728_11eb_8eec_0242ac1c0002row0_col3\" class=\"data row0 col3\" >50.000000</td>\n",
              "                        <td id=\"T_34a266ca_9728_11eb_8eec_0242ac1c0002row0_col4\" class=\"data row0 col4\" >50.000000</td>\n",
              "                        <td id=\"T_34a266ca_9728_11eb_8eec_0242ac1c0002row0_col5\" class=\"data row0 col5\" >0.029000</td>\n",
              "            </tr>\n",
              "            <tr>\n",
              "                        <th id=\"T_34a266ca_9728_11eb_8eec_0242ac1c0002level0_row1\" class=\"row_heading level0 row1\" >1</th>\n",
              "                        <td id=\"T_34a266ca_9728_11eb_8eec_0242ac1c0002row1_col0\" class=\"data row1 col0\" >KNeighborsClassifier</td>\n",
              "                        <td id=\"T_34a266ca_9728_11eb_8eec_0242ac1c0002row1_col1\" class=\"data row1 col1\" >97.870000</td>\n",
              "                        <td id=\"T_34a266ca_9728_11eb_8eec_0242ac1c0002row1_col2\" class=\"data row1 col2\" >97.550000</td>\n",
              "                        <td id=\"T_34a266ca_9728_11eb_8eec_0242ac1c0002row1_col3\" class=\"data row1 col3\" >57.980000</td>\n",
              "                        <td id=\"T_34a266ca_9728_11eb_8eec_0242ac1c0002row1_col4\" class=\"data row1 col4\" >54.070000</td>\n",
              "                        <td id=\"T_34a266ca_9728_11eb_8eec_0242ac1c0002row1_col5\" class=\"data row1 col5\" >21.022100</td>\n",
              "            </tr>\n",
              "            <tr>\n",
              "                        <th id=\"T_34a266ca_9728_11eb_8eec_0242ac1c0002level0_row2\" class=\"row_heading level0 row2\" >2</th>\n",
              "                        <td id=\"T_34a266ca_9728_11eb_8eec_0242ac1c0002row2_col0\" class=\"data row2 col0\" >DecisionTreeClassifier</td>\n",
              "                        <td id=\"T_34a266ca_9728_11eb_8eec_0242ac1c0002row2_col1\" class=\"data row2 col1\" >100.000000</td>\n",
              "                        <td id=\"T_34a266ca_9728_11eb_8eec_0242ac1c0002row2_col2\" class=\"data row2 col2\" >100.000000</td>\n",
              "                        <td id=\"T_34a266ca_9728_11eb_8eec_0242ac1c0002row2_col3\" class=\"data row2 col3\" >100.000000</td>\n",
              "                        <td id=\"T_34a266ca_9728_11eb_8eec_0242ac1c0002row2_col4\" class=\"data row2 col4\" >100.000000</td>\n",
              "                        <td id=\"T_34a266ca_9728_11eb_8eec_0242ac1c0002row2_col5\" class=\"data row2 col5\" >124.901300</td>\n",
              "            </tr>\n",
              "            <tr>\n",
              "                        <th id=\"T_34a266ca_9728_11eb_8eec_0242ac1c0002level0_row3\" class=\"row_heading level0 row3\" >3</th>\n",
              "                        <td id=\"T_34a266ca_9728_11eb_8eec_0242ac1c0002row3_col0\" class=\"data row3 col0\" >XGBClassifier</td>\n",
              "                        <td id=\"T_34a266ca_9728_11eb_8eec_0242ac1c0002row3_col1\" class=\"data row3 col1\" >100.000000</td>\n",
              "                        <td id=\"T_34a266ca_9728_11eb_8eec_0242ac1c0002row3_col2\" class=\"data row3 col2\" >100.000000</td>\n",
              "                        <td id=\"T_34a266ca_9728_11eb_8eec_0242ac1c0002row3_col3\" class=\"data row3 col3\" >100.000000</td>\n",
              "                        <td id=\"T_34a266ca_9728_11eb_8eec_0242ac1c0002row3_col4\" class=\"data row3 col4\" >100.000000</td>\n",
              "                        <td id=\"T_34a266ca_9728_11eb_8eec_0242ac1c0002row3_col5\" class=\"data row3 col5\" >0.485100</td>\n",
              "            </tr>\n",
              "            <tr>\n",
              "                        <th id=\"T_34a266ca_9728_11eb_8eec_0242ac1c0002level0_row4\" class=\"row_heading level0 row4\" >4</th>\n",
              "                        <td id=\"T_34a266ca_9728_11eb_8eec_0242ac1c0002row4_col0\" class=\"data row4 col0\" >CatBoostClassifier</td>\n",
              "                        <td id=\"T_34a266ca_9728_11eb_8eec_0242ac1c0002row4_col1\" class=\"data row4 col1\" >100.000000</td>\n",
              "                        <td id=\"T_34a266ca_9728_11eb_8eec_0242ac1c0002row4_col2\" class=\"data row4 col2\" >100.000000</td>\n",
              "                        <td id=\"T_34a266ca_9728_11eb_8eec_0242ac1c0002row4_col3\" class=\"data row4 col3\" >100.000000</td>\n",
              "                        <td id=\"T_34a266ca_9728_11eb_8eec_0242ac1c0002row4_col4\" class=\"data row4 col4\" >100.000000</td>\n",
              "                        <td id=\"T_34a266ca_9728_11eb_8eec_0242ac1c0002row4_col5\" class=\"data row4 col5\" >0.334900</td>\n",
              "            </tr>\n",
              "            <tr>\n",
              "                        <th id=\"T_34a266ca_9728_11eb_8eec_0242ac1c0002level0_row5\" class=\"row_heading level0 row5\" >5</th>\n",
              "                        <td id=\"T_34a266ca_9728_11eb_8eec_0242ac1c0002row5_col0\" class=\"data row5 col0\" >LGBMClassifier</td>\n",
              "                        <td id=\"T_34a266ca_9728_11eb_8eec_0242ac1c0002row5_col1\" class=\"data row5 col1\" >100.000000</td>\n",
              "                        <td id=\"T_34a266ca_9728_11eb_8eec_0242ac1c0002row5_col2\" class=\"data row5 col2\" >100.000000</td>\n",
              "                        <td id=\"T_34a266ca_9728_11eb_8eec_0242ac1c0002row5_col3\" class=\"data row5 col3\" >100.000000</td>\n",
              "                        <td id=\"T_34a266ca_9728_11eb_8eec_0242ac1c0002row5_col4\" class=\"data row5 col4\" >100.000000</td>\n",
              "                        <td id=\"T_34a266ca_9728_11eb_8eec_0242ac1c0002row5_col5\" class=\"data row5 col5\" >1.376900</td>\n",
              "            </tr>\n",
              "    </tbody></table>"
            ],
            "text/plain": [
              "<pandas.io.formats.style.Styler at 0x7f15e3434350>"
            ]
          },
          "metadata": {
            "tags": []
          },
          "execution_count": 109
        }
      ]
    },
    {
      "cell_type": "code",
      "metadata": {
        "id": "WB7BBI64AbRt",
        "colab": {
          "base_uri": "https://localhost:8080/",
          "height": 508
        },
        "outputId": "c2b874d6-f036-4149-88c8-6137a4023571"
      },
      "source": [
        "fig, ax1 = plt.subplots(figsize=(10,5), dpi=105)\n",
        "tidy = df_compare_2[['Model', 'Train Accuracy', 'Test Accuracy']].melt(id_vars='Model').rename(columns=str.title)\n",
        "sns.barplot(x='Value', y='Model', hue='Variable', data=tidy, ax=ax1)\n",
        "plt.title('Training vs. Testing Accuracy')\n",
        "plt.legend(loc='upper center')\n",
        "plt.show()"
      ],
      "execution_count": null,
      "outputs": [
        {
          "output_type": "display_data",
          "data": {
            "image/png": "[encoded data removed]",
            "text/plain": [
              "<Figure size 1050x525 with 1 Axes>"
            ]
          },
          "metadata": {
            "tags": [],
            "needs_background": "light"
          }
        }
      ]
    },
    {
      "cell_type": "code",
      "metadata": {
        "id": "-vhhZe8dAbR-",
        "colab": {
          "base_uri": "https://localhost:8080/",
          "height": 508
        },
        "outputId": "2a9d2908-111a-4d12-dac0-e1c3d09d26cd"
      },
      "source": [
        "fig, ax1 = plt.subplots(figsize=(10,5), dpi=105)\n",
        "tidy = df_compare_2[['Model', 'Train ROC-AUC', 'Test ROC-AUC']].melt(id_vars='Model').rename(columns=str.title)\n",
        "sns.barplot(x='Value', y='Model', hue='Variable', data=tidy, ax=ax1)\n",
        "plt.title('Training vs. Testing ROC-AUC')\n",
        "plt.show()"
      ],
      "execution_count": null,
      "outputs": [
        {
          "output_type": "display_data",
          "data": {
            "image/png": "[encoded data removed]",
            "text/plain": [
              "<Figure size 1050x525 with 1 Axes>"
            ]
          },
          "metadata": {
            "tags": [],
            "needs_background": "light"
          }
        }
      ]
    },
    {
      "cell_type": "code",
      "metadata": {
        "id": "-L1WmceCAbR-",
        "colab": {
          "base_uri": "https://localhost:8080/",
          "height": 508
        },
        "outputId": "5f309dcb-7291-46e6-b898-8c04b8b8049f"
      },
      "source": [
        "plt.figure(figsize=(8,5), dpi=105)\n",
        "sns.barplot(x='Time of Inference', y='Model', data=df_compare_2)\n",
        "\n",
        "for index, value in enumerate(df_compare_2['Time of Inference']):\n",
        "    plt.text(value, index, str(value))\n",
        "\n",
        "plt.title('Time of Execution')\n",
        "plt.show()"
      ],
      "execution_count": null,
      "outputs": [
        {
          "output_type": "display_data",
          "data": {
            "image/png": "[encoded data removed]",
            "text/plain": [
              "<Figure size 840x525 with 1 Axes>"
            ]
          },
          "metadata": {
            "tags": [],
            "needs_background": "light"
          }
        }
      ]
    },
    {
      "cell_type": "markdown",
      "metadata": {
        "id": "Mv-PnlIfAwjT"
      },
      "source": [
        "Considering the training and testing accuracy (hence overfitting), ROC-AUC scores and the time of execution of all the models, CatBoost Classifier model gives the best and the most efficient results."
      ]
    }
  ]
}